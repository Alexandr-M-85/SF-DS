{
 "cells": [
  {
   "cell_type": "code",
   "execution_count": 1,
   "metadata": {},
   "outputs": [],
   "source": [
    "import pandas as pd\n",
    "import datetime as dt\n",
    "import itertools\n",
    "import collections"
   ]
  },
  {
   "cell_type": "code",
   "execution_count": 2,
   "metadata": {},
   "outputs": [
    {
     "data": {
      "text/html": [
       "<div>\n",
       "<style scoped>\n",
       "    .dataframe tbody tr th:only-of-type {\n",
       "        vertical-align: middle;\n",
       "    }\n",
       "\n",
       "    .dataframe tbody tr th {\n",
       "        vertical-align: top;\n",
       "    }\n",
       "\n",
       "    .dataframe thead th {\n",
       "        text-align: right;\n",
       "    }\n",
       "</style>\n",
       "<table border=\"1\" class=\"dataframe\">\n",
       "  <thead>\n",
       "    <tr style=\"text-align: right;\">\n",
       "      <th></th>\n",
       "      <th>imdb_id</th>\n",
       "      <th>budget</th>\n",
       "      <th>revenue</th>\n",
       "      <th>original_title</th>\n",
       "      <th>cast</th>\n",
       "      <th>director</th>\n",
       "      <th>tagline</th>\n",
       "      <th>overview</th>\n",
       "      <th>runtime</th>\n",
       "      <th>genres</th>\n",
       "      <th>production_companies</th>\n",
       "      <th>release_date</th>\n",
       "      <th>vote_average</th>\n",
       "      <th>release_year</th>\n",
       "    </tr>\n",
       "  </thead>\n",
       "  <tbody>\n",
       "    <tr>\n",
       "      <th>691</th>\n",
       "      <td>tt0483607</td>\n",
       "      <td>30000000</td>\n",
       "      <td>22211426</td>\n",
       "      <td>Doomsday</td>\n",
       "      <td>Rhona Mitra|Bob Hoskins|Malcolm McDowell|Alexa...</td>\n",
       "      <td>Neil Marshall</td>\n",
       "      <td>Mankind has an expiration date.</td>\n",
       "      <td>A lethal virus spreads throughout the British ...</td>\n",
       "      <td>105</td>\n",
       "      <td>Action|Thriller|Science Fiction</td>\n",
       "      <td>Rogue Pictures|Intrepid Pictures|Scion Films|M...</td>\n",
       "      <td>3/14/2008</td>\n",
       "      <td>5.8</td>\n",
       "      <td>2008</td>\n",
       "    </tr>\n",
       "    <tr>\n",
       "      <th>817</th>\n",
       "      <td>tt0993842</td>\n",
       "      <td>30000000</td>\n",
       "      <td>63782078</td>\n",
       "      <td>Hanna</td>\n",
       "      <td>Saoirse Ronan|Eric Bana|Vicky Krieps|Cate Blan...</td>\n",
       "      <td>Joe Wright</td>\n",
       "      <td>Adapt or die.</td>\n",
       "      <td>A 16-year-old girl raised by her father to be ...</td>\n",
       "      <td>111</td>\n",
       "      <td>Action|Thriller|Adventure</td>\n",
       "      <td>Focus Features|Neunte Babelsberg Film|Focus Fe...</td>\n",
       "      <td>4/7/2011</td>\n",
       "      <td>6.5</td>\n",
       "      <td>2011</td>\n",
       "    </tr>\n",
       "    <tr>\n",
       "      <th>542</th>\n",
       "      <td>tt0164334</td>\n",
       "      <td>60000000</td>\n",
       "      <td>105178561</td>\n",
       "      <td>Along Came a Spider</td>\n",
       "      <td>Morgan Freeman|Monica Potter|Michael Wincott|D...</td>\n",
       "      <td>Lee Tamahori</td>\n",
       "      <td>The game is far from over.</td>\n",
       "      <td>When a teacher kidnaps a girl from a prestigio...</td>\n",
       "      <td>104</td>\n",
       "      <td>Crime|Mystery|Thriller|Action</td>\n",
       "      <td>Paramount Pictures|AZL Productions KG|David Br...</td>\n",
       "      <td>4/6/2001</td>\n",
       "      <td>5.8</td>\n",
       "      <td>2001</td>\n",
       "    </tr>\n",
       "    <tr>\n",
       "      <th>1390</th>\n",
       "      <td>tt0384680</td>\n",
       "      <td>20000000</td>\n",
       "      <td>12482775</td>\n",
       "      <td>The Weather Man</td>\n",
       "      <td>Nicolas Cage|Michael Caine|Hope Davis|Gemmenne...</td>\n",
       "      <td>Gore Verbinski</td>\n",
       "      <td>Dave Spritz is about to take his best shot . ....</td>\n",
       "      <td>A Chicago weather man, separated from his wife...</td>\n",
       "      <td>101</td>\n",
       "      <td>Comedy|Drama</td>\n",
       "      <td>Paramount Pictures|Escape Artists|Kumar Mobili...</td>\n",
       "      <td>10/20/2005</td>\n",
       "      <td>5.7</td>\n",
       "      <td>2005</td>\n",
       "    </tr>\n",
       "    <tr>\n",
       "      <th>44</th>\n",
       "      <td>tt3622592</td>\n",
       "      <td>12000000</td>\n",
       "      <td>85512300</td>\n",
       "      <td>Paper Towns</td>\n",
       "      <td>Nat Wolff|Cara Delevingne|Halston Sage|Justice...</td>\n",
       "      <td>Jake Schreier</td>\n",
       "      <td>Get Lost. Get Found.</td>\n",
       "      <td>Quentin Jacobsen has spent a lifetime loving t...</td>\n",
       "      <td>109</td>\n",
       "      <td>Drama|Mystery|Romance</td>\n",
       "      <td>Fox 2000 Pictures</td>\n",
       "      <td>7/9/2015</td>\n",
       "      <td>6.2</td>\n",
       "      <td>2015</td>\n",
       "    </tr>\n",
       "  </tbody>\n",
       "</table>\n",
       "</div>"
      ],
      "text/plain": [
       "        imdb_id    budget    revenue       original_title  \\\n",
       "691   tt0483607  30000000   22211426             Doomsday   \n",
       "817   tt0993842  30000000   63782078                Hanna   \n",
       "542   tt0164334  60000000  105178561  Along Came a Spider   \n",
       "1390  tt0384680  20000000   12482775      The Weather Man   \n",
       "44    tt3622592  12000000   85512300          Paper Towns   \n",
       "\n",
       "                                                   cast        director  \\\n",
       "691   Rhona Mitra|Bob Hoskins|Malcolm McDowell|Alexa...   Neil Marshall   \n",
       "817   Saoirse Ronan|Eric Bana|Vicky Krieps|Cate Blan...      Joe Wright   \n",
       "542   Morgan Freeman|Monica Potter|Michael Wincott|D...    Lee Tamahori   \n",
       "1390  Nicolas Cage|Michael Caine|Hope Davis|Gemmenne...  Gore Verbinski   \n",
       "44    Nat Wolff|Cara Delevingne|Halston Sage|Justice...   Jake Schreier   \n",
       "\n",
       "                                                tagline  \\\n",
       "691                     Mankind has an expiration date.   \n",
       "817                                       Adapt or die.   \n",
       "542                          The game is far from over.   \n",
       "1390  Dave Spritz is about to take his best shot . ....   \n",
       "44                                 Get Lost. Get Found.   \n",
       "\n",
       "                                               overview  runtime  \\\n",
       "691   A lethal virus spreads throughout the British ...      105   \n",
       "817   A 16-year-old girl raised by her father to be ...      111   \n",
       "542   When a teacher kidnaps a girl from a prestigio...      104   \n",
       "1390  A Chicago weather man, separated from his wife...      101   \n",
       "44    Quentin Jacobsen has spent a lifetime loving t...      109   \n",
       "\n",
       "                               genres  \\\n",
       "691   Action|Thriller|Science Fiction   \n",
       "817         Action|Thriller|Adventure   \n",
       "542     Crime|Mystery|Thriller|Action   \n",
       "1390                     Comedy|Drama   \n",
       "44              Drama|Mystery|Romance   \n",
       "\n",
       "                                   production_companies release_date  \\\n",
       "691   Rogue Pictures|Intrepid Pictures|Scion Films|M...    3/14/2008   \n",
       "817   Focus Features|Neunte Babelsberg Film|Focus Fe...     4/7/2011   \n",
       "542   Paramount Pictures|AZL Productions KG|David Br...     4/6/2001   \n",
       "1390  Paramount Pictures|Escape Artists|Kumar Mobili...   10/20/2005   \n",
       "44                                    Fox 2000 Pictures     7/9/2015   \n",
       "\n",
       "      vote_average  release_year  \n",
       "691            5.8          2008  \n",
       "817            6.5          2011  \n",
       "542            5.8          2001  \n",
       "1390           5.7          2005  \n",
       "44             6.2          2015  "
      ]
     },
     "execution_count": 2,
     "metadata": {},
     "output_type": "execute_result"
    }
   ],
   "source": [
    "data = pd.read_csv('movie_bd_v5.csv')\n",
    "# посмотрим, что из себя представляют данные\n",
    "data.sample(5)"
   ]
  },
  {
   "cell_type": "code",
   "execution_count": 3,
   "metadata": {},
   "outputs": [
    {
     "data": {
      "text/html": [
       "<div>\n",
       "<style scoped>\n",
       "    .dataframe tbody tr th:only-of-type {\n",
       "        vertical-align: middle;\n",
       "    }\n",
       "\n",
       "    .dataframe tbody tr th {\n",
       "        vertical-align: top;\n",
       "    }\n",
       "\n",
       "    .dataframe thead th {\n",
       "        text-align: right;\n",
       "    }\n",
       "</style>\n",
       "<table border=\"1\" class=\"dataframe\">\n",
       "  <thead>\n",
       "    <tr style=\"text-align: right;\">\n",
       "      <th></th>\n",
       "      <th>budget</th>\n",
       "      <th>revenue</th>\n",
       "      <th>runtime</th>\n",
       "      <th>vote_average</th>\n",
       "      <th>release_year</th>\n",
       "    </tr>\n",
       "  </thead>\n",
       "  <tbody>\n",
       "    <tr>\n",
       "      <th>count</th>\n",
       "      <td>1.889000e+03</td>\n",
       "      <td>1.889000e+03</td>\n",
       "      <td>1889.000000</td>\n",
       "      <td>1889.000000</td>\n",
       "      <td>1889.000000</td>\n",
       "    </tr>\n",
       "    <tr>\n",
       "      <th>mean</th>\n",
       "      <td>5.431083e+07</td>\n",
       "      <td>1.553653e+08</td>\n",
       "      <td>109.658549</td>\n",
       "      <td>6.140762</td>\n",
       "      <td>2007.860773</td>\n",
       "    </tr>\n",
       "    <tr>\n",
       "      <th>std</th>\n",
       "      <td>4.858721e+07</td>\n",
       "      <td>2.146698e+08</td>\n",
       "      <td>18.017041</td>\n",
       "      <td>0.764763</td>\n",
       "      <td>4.468841</td>\n",
       "    </tr>\n",
       "    <tr>\n",
       "      <th>min</th>\n",
       "      <td>5.000000e+06</td>\n",
       "      <td>2.033165e+06</td>\n",
       "      <td>63.000000</td>\n",
       "      <td>3.300000</td>\n",
       "      <td>2000.000000</td>\n",
       "    </tr>\n",
       "    <tr>\n",
       "      <th>25%</th>\n",
       "      <td>2.000000e+07</td>\n",
       "      <td>3.456058e+07</td>\n",
       "      <td>97.000000</td>\n",
       "      <td>5.600000</td>\n",
       "      <td>2004.000000</td>\n",
       "    </tr>\n",
       "    <tr>\n",
       "      <th>50%</th>\n",
       "      <td>3.800000e+07</td>\n",
       "      <td>8.361541e+07</td>\n",
       "      <td>107.000000</td>\n",
       "      <td>6.100000</td>\n",
       "      <td>2008.000000</td>\n",
       "    </tr>\n",
       "    <tr>\n",
       "      <th>75%</th>\n",
       "      <td>7.200000e+07</td>\n",
       "      <td>1.782626e+08</td>\n",
       "      <td>120.000000</td>\n",
       "      <td>6.600000</td>\n",
       "      <td>2012.000000</td>\n",
       "    </tr>\n",
       "    <tr>\n",
       "      <th>max</th>\n",
       "      <td>3.800000e+08</td>\n",
       "      <td>2.781506e+09</td>\n",
       "      <td>214.000000</td>\n",
       "      <td>8.100000</td>\n",
       "      <td>2015.000000</td>\n",
       "    </tr>\n",
       "  </tbody>\n",
       "</table>\n",
       "</div>"
      ],
      "text/plain": [
       "             budget       revenue      runtime  vote_average  release_year\n",
       "count  1.889000e+03  1.889000e+03  1889.000000   1889.000000   1889.000000\n",
       "mean   5.431083e+07  1.553653e+08   109.658549      6.140762   2007.860773\n",
       "std    4.858721e+07  2.146698e+08    18.017041      0.764763      4.468841\n",
       "min    5.000000e+06  2.033165e+06    63.000000      3.300000   2000.000000\n",
       "25%    2.000000e+07  3.456058e+07    97.000000      5.600000   2004.000000\n",
       "50%    3.800000e+07  8.361541e+07   107.000000      6.100000   2008.000000\n",
       "75%    7.200000e+07  1.782626e+08   120.000000      6.600000   2012.000000\n",
       "max    3.800000e+08  2.781506e+09   214.000000      8.100000   2015.000000"
      ]
     },
     "execution_count": 3,
     "metadata": {},
     "output_type": "execute_result"
    }
   ],
   "source": [
    "# посмотрим статистическую информацию\n",
    "data.describe()"
   ]
  },
  {
   "cell_type": "code",
   "execution_count": 4,
   "metadata": {},
   "outputs": [
    {
     "name": "stdout",
     "output_type": "stream",
     "text": [
      "<class 'pandas.core.frame.DataFrame'>\n",
      "RangeIndex: 1889 entries, 0 to 1888\n",
      "Data columns (total 14 columns):\n",
      " #   Column                Non-Null Count  Dtype  \n",
      "---  ------                --------------  -----  \n",
      " 0   imdb_id               1889 non-null   object \n",
      " 1   budget                1889 non-null   int64  \n",
      " 2   revenue               1889 non-null   int64  \n",
      " 3   original_title        1889 non-null   object \n",
      " 4   cast                  1889 non-null   object \n",
      " 5   director              1889 non-null   object \n",
      " 6   tagline               1889 non-null   object \n",
      " 7   overview              1889 non-null   object \n",
      " 8   runtime               1889 non-null   int64  \n",
      " 9   genres                1889 non-null   object \n",
      " 10  production_companies  1889 non-null   object \n",
      " 11  release_date          1889 non-null   object \n",
      " 12  vote_average          1889 non-null   float64\n",
      " 13  release_year          1889 non-null   int64  \n",
      "dtypes: float64(1), int64(4), object(9)\n",
      "memory usage: 206.7+ KB\n"
     ]
    }
   ],
   "source": [
    "# посмотрим более детальную информацию о колонках\n",
    "data.info()"
   ]
  },
  {
   "cell_type": "code",
   "execution_count": 5,
   "metadata": {},
   "outputs": [
    {
     "data": {
      "text/html": [
       "<div>\n",
       "<style scoped>\n",
       "    .dataframe tbody tr th:only-of-type {\n",
       "        vertical-align: middle;\n",
       "    }\n",
       "\n",
       "    .dataframe tbody tr th {\n",
       "        vertical-align: top;\n",
       "    }\n",
       "\n",
       "    .dataframe thead th {\n",
       "        text-align: right;\n",
       "    }\n",
       "</style>\n",
       "<table border=\"1\" class=\"dataframe\">\n",
       "  <thead>\n",
       "    <tr style=\"text-align: right;\">\n",
       "      <th></th>\n",
       "      <th>imdb_id</th>\n",
       "      <th>budget</th>\n",
       "      <th>revenue</th>\n",
       "      <th>original_title</th>\n",
       "      <th>cast</th>\n",
       "      <th>director</th>\n",
       "      <th>tagline</th>\n",
       "      <th>overview</th>\n",
       "      <th>runtime</th>\n",
       "      <th>genres</th>\n",
       "      <th>production_companies</th>\n",
       "      <th>release_date</th>\n",
       "      <th>vote_average</th>\n",
       "      <th>release_year</th>\n",
       "    </tr>\n",
       "  </thead>\n",
       "  <tbody>\n",
       "  </tbody>\n",
       "</table>\n",
       "</div>"
      ],
      "text/plain": [
       "Empty DataFrame\n",
       "Columns: [imdb_id, budget, revenue, original_title, cast, director, tagline, overview, runtime, genres, production_companies, release_date, vote_average, release_year]\n",
       "Index: []"
      ]
     },
     "execution_count": 5,
     "metadata": {},
     "output_type": "execute_result"
    }
   ],
   "source": [
    "# все данные присутствуют, пустых или нулевых данных нет и это очень хорошо\n",
    "# проверим, нет ли дубликатов в строках\n",
    "data[data.duplicated(keep=False)]"
   ]
  },
  {
   "cell_type": "code",
   "execution_count": 6,
   "metadata": {},
   "outputs": [
    {
     "data": {
      "text/plain": [
       "1887"
      ]
     },
     "execution_count": 6,
     "metadata": {},
     "output_type": "execute_result"
    }
   ],
   "source": [
    "# Дубликаты не найдены. Проверим на уникальность названий фильмов.\n",
    "data['original_title'].nunique()"
   ]
  },
  {
   "cell_type": "code",
   "execution_count": 7,
   "metadata": {},
   "outputs": [
    {
     "data": {
      "text/plain": [
       "Fantastic Four    2\n",
       "The Gift          2\n",
       "Aloha             1\n",
       "Gangster Squad    1\n",
       "Dark Blue         1\n",
       "                 ..\n",
       "Trainwreck        1\n",
       "Bad News Bears    1\n",
       "Dhoom 2           1\n",
       "On the Road       1\n",
       "Identity Thief    1\n",
       "Name: original_title, Length: 1887, dtype: int64"
      ]
     },
     "execution_count": 7,
     "metadata": {},
     "output_type": "execute_result"
    }
   ],
   "source": [
    "# так-так. У нас 2 строчки с одинаковым названием фильма. Проверим, что это все-таки разные фильмы.\n",
    "data['original_title'].value_counts()"
   ]
  },
  {
   "cell_type": "code",
   "execution_count": 8,
   "metadata": {},
   "outputs": [
    {
     "data": {
      "text/html": [
       "<div>\n",
       "<style scoped>\n",
       "    .dataframe tbody tr th:only-of-type {\n",
       "        vertical-align: middle;\n",
       "    }\n",
       "\n",
       "    .dataframe tbody tr th {\n",
       "        vertical-align: top;\n",
       "    }\n",
       "\n",
       "    .dataframe thead th {\n",
       "        text-align: right;\n",
       "    }\n",
       "</style>\n",
       "<table border=\"1\" class=\"dataframe\">\n",
       "  <thead>\n",
       "    <tr style=\"text-align: right;\">\n",
       "      <th></th>\n",
       "      <th>imdb_id</th>\n",
       "      <th>budget</th>\n",
       "      <th>revenue</th>\n",
       "      <th>original_title</th>\n",
       "      <th>cast</th>\n",
       "      <th>director</th>\n",
       "      <th>tagline</th>\n",
       "      <th>overview</th>\n",
       "      <th>runtime</th>\n",
       "      <th>genres</th>\n",
       "      <th>production_companies</th>\n",
       "      <th>release_date</th>\n",
       "      <th>vote_average</th>\n",
       "      <th>release_year</th>\n",
       "    </tr>\n",
       "  </thead>\n",
       "  <tbody>\n",
       "    <tr>\n",
       "      <th>55</th>\n",
       "      <td>tt1502712</td>\n",
       "      <td>120000001</td>\n",
       "      <td>167977596</td>\n",
       "      <td>Fantastic Four</td>\n",
       "      <td>Miles Teller|Kate Mara|Michael B. Jordan|Jamie...</td>\n",
       "      <td>Josh Trank</td>\n",
       "      <td>Change is coming.</td>\n",
       "      <td>Four young outsiders teleport to a dangerous u...</td>\n",
       "      <td>100</td>\n",
       "      <td>Action|Adventure|Science Fiction</td>\n",
       "      <td>Twentieth Century Fox Film Corporation|Marv Fi...</td>\n",
       "      <td>8/5/2015</td>\n",
       "      <td>4.4</td>\n",
       "      <td>2015</td>\n",
       "    </tr>\n",
       "    <tr>\n",
       "      <th>75</th>\n",
       "      <td>tt4178092</td>\n",
       "      <td>5000000</td>\n",
       "      <td>58978653</td>\n",
       "      <td>The Gift</td>\n",
       "      <td>Jason Bateman|Rebecca Hall|Joel Edgerton|David...</td>\n",
       "      <td>Joel Edgerton</td>\n",
       "      <td>Not every gift is welcome.</td>\n",
       "      <td>A husband and wife try to reinvigorate their r...</td>\n",
       "      <td>108</td>\n",
       "      <td>Thriller|Mystery</td>\n",
       "      <td>Blumhouse Productions|Blue-Tongue Films|STX En...</td>\n",
       "      <td>7/30/2015</td>\n",
       "      <td>6.6</td>\n",
       "      <td>2015</td>\n",
       "    </tr>\n",
       "    <tr>\n",
       "      <th>1322</th>\n",
       "      <td>tt0120667</td>\n",
       "      <td>100000000</td>\n",
       "      <td>330579719</td>\n",
       "      <td>Fantastic Four</td>\n",
       "      <td>Ioan Gruffudd|Jessica Alba|Chris Evans|Michael...</td>\n",
       "      <td>Tim Story</td>\n",
       "      <td>4 times the action. 4 times the adventure. 4 t...</td>\n",
       "      <td>During a space voyage, four scientists are alt...</td>\n",
       "      <td>106</td>\n",
       "      <td>Action|Adventure|Fantasy|Science Fiction</td>\n",
       "      <td>Twentieth Century Fox Film Corporation|1492 Pi...</td>\n",
       "      <td>7/7/2005</td>\n",
       "      <td>5.6</td>\n",
       "      <td>2005</td>\n",
       "    </tr>\n",
       "    <tr>\n",
       "      <th>1834</th>\n",
       "      <td>tt0219699</td>\n",
       "      <td>10000000</td>\n",
       "      <td>12008642</td>\n",
       "      <td>The Gift</td>\n",
       "      <td>Cate Blanchett|Giovanni Ribisi|Keanu Reeves|Ka...</td>\n",
       "      <td>Sam Raimi</td>\n",
       "      <td>The only witness to the crime was not even there.</td>\n",
       "      <td>When a local woman disappears and the police c...</td>\n",
       "      <td>111</td>\n",
       "      <td>Horror|Drama|Thriller|Mystery</td>\n",
       "      <td>Lakeshore Entertainment|Alphaville Films</td>\n",
       "      <td>12/22/2000</td>\n",
       "      <td>6.2</td>\n",
       "      <td>2000</td>\n",
       "    </tr>\n",
       "  </tbody>\n",
       "</table>\n",
       "</div>"
      ],
      "text/plain": [
       "        imdb_id     budget    revenue  original_title  \\\n",
       "55    tt1502712  120000001  167977596  Fantastic Four   \n",
       "75    tt4178092    5000000   58978653        The Gift   \n",
       "1322  tt0120667  100000000  330579719  Fantastic Four   \n",
       "1834  tt0219699   10000000   12008642        The Gift   \n",
       "\n",
       "                                                   cast       director  \\\n",
       "55    Miles Teller|Kate Mara|Michael B. Jordan|Jamie...     Josh Trank   \n",
       "75    Jason Bateman|Rebecca Hall|Joel Edgerton|David...  Joel Edgerton   \n",
       "1322  Ioan Gruffudd|Jessica Alba|Chris Evans|Michael...      Tim Story   \n",
       "1834  Cate Blanchett|Giovanni Ribisi|Keanu Reeves|Ka...      Sam Raimi   \n",
       "\n",
       "                                                tagline  \\\n",
       "55                                    Change is coming.   \n",
       "75                           Not every gift is welcome.   \n",
       "1322  4 times the action. 4 times the adventure. 4 t...   \n",
       "1834  The only witness to the crime was not even there.   \n",
       "\n",
       "                                               overview  runtime  \\\n",
       "55    Four young outsiders teleport to a dangerous u...      100   \n",
       "75    A husband and wife try to reinvigorate their r...      108   \n",
       "1322  During a space voyage, four scientists are alt...      106   \n",
       "1834  When a local woman disappears and the police c...      111   \n",
       "\n",
       "                                        genres  \\\n",
       "55            Action|Adventure|Science Fiction   \n",
       "75                            Thriller|Mystery   \n",
       "1322  Action|Adventure|Fantasy|Science Fiction   \n",
       "1834             Horror|Drama|Thriller|Mystery   \n",
       "\n",
       "                                   production_companies release_date  \\\n",
       "55    Twentieth Century Fox Film Corporation|Marv Fi...     8/5/2015   \n",
       "75    Blumhouse Productions|Blue-Tongue Films|STX En...    7/30/2015   \n",
       "1322  Twentieth Century Fox Film Corporation|1492 Pi...     7/7/2005   \n",
       "1834           Lakeshore Entertainment|Alphaville Films   12/22/2000   \n",
       "\n",
       "      vote_average  release_year  \n",
       "55             4.4          2015  \n",
       "75             6.6          2015  \n",
       "1322           5.6          2005  \n",
       "1834           6.2          2000  "
      ]
     },
     "execution_count": 8,
     "metadata": {},
     "output_type": "execute_result"
    }
   ],
   "source": [
    "data.query('original_title in [\"Fantastic Four\",\"The Gift\"]')"
   ]
  },
  {
   "cell_type": "markdown",
   "metadata": {},
   "source": [
    "Мы удостоверились, что это действительно разные фильмы. Замечательно, можно приступать к предобработке."
   ]
  },
  {
   "cell_type": "markdown",
   "metadata": {},
   "source": [
    "# Предобработка"
   ]
  },
  {
   "cell_type": "code",
   "execution_count": 9,
   "metadata": {},
   "outputs": [],
   "source": [
    "# создадим пустой словарь для хранения наших ответов к викторине\n",
    "answers = {}\n",
    "# добавим столбец с прибылью, он нам пригодится\n",
    "data['profit'] = data['revenue'] - data['budget']"
   ]
  },
  {
   "cell_type": "markdown",
   "metadata": {},
   "source": [
    "# 1. У какого фильма из списка самый большой бюджет?"
   ]
  },
  {
   "cell_type": "code",
   "execution_count": 10,
   "metadata": {},
   "outputs": [
    {
     "data": {
      "text/html": [
       "<div>\n",
       "<style scoped>\n",
       "    .dataframe tbody tr th:only-of-type {\n",
       "        vertical-align: middle;\n",
       "    }\n",
       "\n",
       "    .dataframe tbody tr th {\n",
       "        vertical-align: top;\n",
       "    }\n",
       "\n",
       "    .dataframe thead th {\n",
       "        text-align: right;\n",
       "    }\n",
       "</style>\n",
       "<table border=\"1\" class=\"dataframe\">\n",
       "  <thead>\n",
       "    <tr style=\"text-align: right;\">\n",
       "      <th></th>\n",
       "      <th>imdb_id</th>\n",
       "      <th>budget</th>\n",
       "      <th>revenue</th>\n",
       "      <th>original_title</th>\n",
       "      <th>cast</th>\n",
       "      <th>director</th>\n",
       "      <th>tagline</th>\n",
       "      <th>overview</th>\n",
       "      <th>runtime</th>\n",
       "      <th>genres</th>\n",
       "      <th>production_companies</th>\n",
       "      <th>release_date</th>\n",
       "      <th>vote_average</th>\n",
       "      <th>release_year</th>\n",
       "      <th>profit</th>\n",
       "    </tr>\n",
       "  </thead>\n",
       "  <tbody>\n",
       "    <tr>\n",
       "      <th>723</th>\n",
       "      <td>tt1298650</td>\n",
       "      <td>380000000</td>\n",
       "      <td>1021683000</td>\n",
       "      <td>Pirates of the Caribbean: On Stranger Tides</td>\n",
       "      <td>Johnny Depp|PenÃ©lope Cruz|Geoffrey Rush|Ian M...</td>\n",
       "      <td>Rob Marshall</td>\n",
       "      <td>Live Forever Or Die Trying.</td>\n",
       "      <td>Captain Jack Sparrow crosses paths with a woma...</td>\n",
       "      <td>136</td>\n",
       "      <td>Adventure|Action|Fantasy</td>\n",
       "      <td>Walt Disney Pictures|Jerry Bruckheimer Films|M...</td>\n",
       "      <td>5/11/2011</td>\n",
       "      <td>6.3</td>\n",
       "      <td>2011</td>\n",
       "      <td>641683000</td>\n",
       "    </tr>\n",
       "  </tbody>\n",
       "</table>\n",
       "</div>"
      ],
      "text/plain": [
       "       imdb_id     budget     revenue  \\\n",
       "723  tt1298650  380000000  1021683000   \n",
       "\n",
       "                                  original_title  \\\n",
       "723  Pirates of the Caribbean: On Stranger Tides   \n",
       "\n",
       "                                                  cast      director  \\\n",
       "723  Johnny Depp|PenÃ©lope Cruz|Geoffrey Rush|Ian M...  Rob Marshall   \n",
       "\n",
       "                         tagline  \\\n",
       "723  Live Forever Or Die Trying.   \n",
       "\n",
       "                                              overview  runtime  \\\n",
       "723  Captain Jack Sparrow crosses paths with a woma...      136   \n",
       "\n",
       "                       genres  \\\n",
       "723  Adventure|Action|Fantasy   \n",
       "\n",
       "                                  production_companies release_date  \\\n",
       "723  Walt Disney Pictures|Jerry Bruckheimer Films|M...    5/11/2011   \n",
       "\n",
       "     vote_average  release_year     profit  \n",
       "723           6.3          2011  641683000  "
      ]
     },
     "metadata": {},
     "output_type": "display_data"
    }
   ],
   "source": [
    "# ну тут все просто: создадим новый датафрейм с фильмом (или фильмами, если у них одинаковый бюджет) с максимальным бюджетом:\n",
    "data_1 = data[data.budget == data.budget.max()]\n",
    "display(data_1)"
   ]
  },
  {
   "cell_type": "code",
   "execution_count": 11,
   "metadata": {},
   "outputs": [
    {
     "name": "stdout",
     "output_type": "stream",
     "text": [
      "Фильм с самым большим бюджетом из списка - \"Pirates of the Caribbean: On Stranger Tides\"\n"
     ]
    }
   ],
   "source": [
    "# фильмом с самым большим бюджетом из списка оказалась четвертая часть пиратов карибского моря\n",
    "print('Фильм с самым большим бюджетом из списка - \"Pirates of the Caribbean: On Stranger Tides\"')\n",
    "# добавим этот ответ в наш словарик:\n",
    "answers[1] = 'Pirates of the Caribbean: On Stranger Tides (tt1298650)'"
   ]
  },
  {
   "cell_type": "markdown",
   "metadata": {},
   "source": [
    "# 2. Какой из фильмов самый длительный (в минутах)?"
   ]
  },
  {
   "cell_type": "code",
   "execution_count": 12,
   "metadata": {},
   "outputs": [
    {
     "data": {
      "text/html": [
       "<div>\n",
       "<style scoped>\n",
       "    .dataframe tbody tr th:only-of-type {\n",
       "        vertical-align: middle;\n",
       "    }\n",
       "\n",
       "    .dataframe tbody tr th {\n",
       "        vertical-align: top;\n",
       "    }\n",
       "\n",
       "    .dataframe thead th {\n",
       "        text-align: right;\n",
       "    }\n",
       "</style>\n",
       "<table border=\"1\" class=\"dataframe\">\n",
       "  <thead>\n",
       "    <tr style=\"text-align: right;\">\n",
       "      <th></th>\n",
       "      <th>imdb_id</th>\n",
       "      <th>budget</th>\n",
       "      <th>revenue</th>\n",
       "      <th>original_title</th>\n",
       "      <th>cast</th>\n",
       "      <th>director</th>\n",
       "      <th>tagline</th>\n",
       "      <th>overview</th>\n",
       "      <th>runtime</th>\n",
       "      <th>genres</th>\n",
       "      <th>production_companies</th>\n",
       "      <th>release_date</th>\n",
       "      <th>vote_average</th>\n",
       "      <th>release_year</th>\n",
       "      <th>profit</th>\n",
       "    </tr>\n",
       "  </thead>\n",
       "  <tbody>\n",
       "    <tr>\n",
       "      <th>1157</th>\n",
       "      <td>tt0279111</td>\n",
       "      <td>56000000</td>\n",
       "      <td>12923936</td>\n",
       "      <td>Gods and Generals</td>\n",
       "      <td>Stephen Lang|Jeff Daniels|Robert Duvall|Kevin ...</td>\n",
       "      <td>Ronald F. Maxwell</td>\n",
       "      <td>The nations heart was touched by...</td>\n",
       "      <td>The film centers mostly around the personal an...</td>\n",
       "      <td>214</td>\n",
       "      <td>Drama|History|War</td>\n",
       "      <td>Turner Pictures|Antietam Filmworks</td>\n",
       "      <td>2/21/2003</td>\n",
       "      <td>5.8</td>\n",
       "      <td>2003</td>\n",
       "      <td>-43076064</td>\n",
       "    </tr>\n",
       "  </tbody>\n",
       "</table>\n",
       "</div>"
      ],
      "text/plain": [
       "        imdb_id    budget   revenue     original_title  \\\n",
       "1157  tt0279111  56000000  12923936  Gods and Generals   \n",
       "\n",
       "                                                   cast           director  \\\n",
       "1157  Stephen Lang|Jeff Daniels|Robert Duvall|Kevin ...  Ronald F. Maxwell   \n",
       "\n",
       "                                  tagline  \\\n",
       "1157  The nations heart was touched by...   \n",
       "\n",
       "                                               overview  runtime  \\\n",
       "1157  The film centers mostly around the personal an...      214   \n",
       "\n",
       "                 genres                production_companies release_date  \\\n",
       "1157  Drama|History|War  Turner Pictures|Antietam Filmworks    2/21/2003   \n",
       "\n",
       "      vote_average  release_year    profit  \n",
       "1157           5.8          2003 -43076064  "
      ]
     },
     "metadata": {},
     "output_type": "display_data"
    }
   ],
   "source": [
    "# по аналогии с первым вопросом создадим новый датафрейм с фильмом (или фильмами, если у них одинаковая длительность)\n",
    "# с максимальной длительностью:\n",
    "data_2 = data[data.runtime == data.runtime.max()]\n",
    "display(data_2)"
   ]
  },
  {
   "cell_type": "code",
   "execution_count": 13,
   "metadata": {},
   "outputs": [
    {
     "name": "stdout",
     "output_type": "stream",
     "text": [
      "Самый длительный фильм из списка - \"Gods and Generals\"\n"
     ]
    }
   ],
   "source": [
    "# самым длительным фильмом оказались \"Боги и генералы\"\n",
    "print('Самый длительный фильм из списка - \"Gods and Generals\"')\n",
    "# также добавим этот ответ в словарь:\n",
    "answers[2] = 'Gods and Generals (tt0279111)'"
   ]
  },
  {
   "cell_type": "markdown",
   "metadata": {},
   "source": [
    "# 3. Какой из фильмов самый короткий (в минутах)?"
   ]
  },
  {
   "cell_type": "code",
   "execution_count": 14,
   "metadata": {},
   "outputs": [
    {
     "data": {
      "text/html": [
       "<div>\n",
       "<style scoped>\n",
       "    .dataframe tbody tr th:only-of-type {\n",
       "        vertical-align: middle;\n",
       "    }\n",
       "\n",
       "    .dataframe tbody tr th {\n",
       "        vertical-align: top;\n",
       "    }\n",
       "\n",
       "    .dataframe thead th {\n",
       "        text-align: right;\n",
       "    }\n",
       "</style>\n",
       "<table border=\"1\" class=\"dataframe\">\n",
       "  <thead>\n",
       "    <tr style=\"text-align: right;\">\n",
       "      <th></th>\n",
       "      <th>imdb_id</th>\n",
       "      <th>budget</th>\n",
       "      <th>revenue</th>\n",
       "      <th>original_title</th>\n",
       "      <th>cast</th>\n",
       "      <th>director</th>\n",
       "      <th>tagline</th>\n",
       "      <th>overview</th>\n",
       "      <th>runtime</th>\n",
       "      <th>genres</th>\n",
       "      <th>production_companies</th>\n",
       "      <th>release_date</th>\n",
       "      <th>vote_average</th>\n",
       "      <th>release_year</th>\n",
       "      <th>profit</th>\n",
       "    </tr>\n",
       "  </thead>\n",
       "  <tbody>\n",
       "    <tr>\n",
       "      <th>768</th>\n",
       "      <td>tt1449283</td>\n",
       "      <td>30000000</td>\n",
       "      <td>14460000</td>\n",
       "      <td>Winnie the Pooh</td>\n",
       "      <td>Jim Cummings|Travis Oates|Jim Cummings|Bud Luc...</td>\n",
       "      <td>Stephen Anderson|Don Hall</td>\n",
       "      <td>Oh Pooh.</td>\n",
       "      <td>During an ordinary day in Hundred Acre Wood, W...</td>\n",
       "      <td>63</td>\n",
       "      <td>Animation|Family</td>\n",
       "      <td>Walt Disney Pictures|Walt Disney Animation Stu...</td>\n",
       "      <td>4/13/2011</td>\n",
       "      <td>6.8</td>\n",
       "      <td>2011</td>\n",
       "      <td>-15540000</td>\n",
       "    </tr>\n",
       "  </tbody>\n",
       "</table>\n",
       "</div>"
      ],
      "text/plain": [
       "       imdb_id    budget   revenue   original_title  \\\n",
       "768  tt1449283  30000000  14460000  Winnie the Pooh   \n",
       "\n",
       "                                                  cast  \\\n",
       "768  Jim Cummings|Travis Oates|Jim Cummings|Bud Luc...   \n",
       "\n",
       "                      director   tagline  \\\n",
       "768  Stephen Anderson|Don Hall  Oh Pooh.   \n",
       "\n",
       "                                              overview  runtime  \\\n",
       "768  During an ordinary day in Hundred Acre Wood, W...       63   \n",
       "\n",
       "               genres                               production_companies  \\\n",
       "768  Animation|Family  Walt Disney Pictures|Walt Disney Animation Stu...   \n",
       "\n",
       "    release_date  vote_average  release_year    profit  \n",
       "768    4/13/2011           6.8          2011 -15540000  "
      ]
     },
     "metadata": {},
     "output_type": "display_data"
    }
   ],
   "source": [
    "# создадим новый датафрейм с фильмом с минимальной длительностью:\n",
    "data_3 = data[data.runtime == data.runtime.min()]\n",
    "display(data_3)"
   ]
  },
  {
   "cell_type": "code",
   "execution_count": 15,
   "metadata": {},
   "outputs": [
    {
     "name": "stdout",
     "output_type": "stream",
     "text": [
      "Самый короткий фильм из списка - \"Winnie the Pooh\"\n"
     ]
    }
   ],
   "source": [
    "# самым коротким фильмом оказался диснеевский мультфильм про Винни Пуха\n",
    "print('Самый короткий фильм из списка - \"Winnie the Pooh\"')\n",
    "# не забудем добавить этот ответ в словарь:\n",
    "answers[3] = 'Winnie the Pooh (tt1449283)'"
   ]
  },
  {
   "cell_type": "markdown",
   "metadata": {},
   "source": [
    "# 4. Какова средняя длительность фильмов?"
   ]
  },
  {
   "cell_type": "code",
   "execution_count": 16,
   "metadata": {},
   "outputs": [
    {
     "name": "stdout",
     "output_type": "stream",
     "text": [
      "Средняя длительность фильмов из списка - 110.0 мин\n"
     ]
    }
   ],
   "source": [
    "# хоть мы уже знаем среднюю длительность фильма (видели при вызове функции describe()) воспользуемся другой функцией,\n",
    "# чтобы освежить знания\n",
    "ans = round(data.runtime.mean(), 0)\n",
    "print(f'Средняя длительность фильмов из списка - {ans} мин')"
   ]
  },
  {
   "cell_type": "code",
   "execution_count": 17,
   "metadata": {},
   "outputs": [],
   "source": [
    "# добавим ответ в словарь:\n",
    "answers[4] = ans"
   ]
  },
  {
   "cell_type": "markdown",
   "metadata": {},
   "source": [
    "# 5. Каково медианное значение длительности фильмов?"
   ]
  },
  {
   "cell_type": "code",
   "execution_count": 18,
   "metadata": {},
   "outputs": [
    {
     "name": "stdout",
     "output_type": "stream",
     "text": [
      "Медианное значение длительности фильмов - 107.0 мин\n"
     ]
    }
   ],
   "source": [
    "# медианное значение мы уже также видели при вызове функции describe()\n",
    "# воспользуемся еще одной функцией:\n",
    "ans = data.runtime.median()\n",
    "print(f'Медианное значение длительности фильмов - {ans} мин')"
   ]
  },
  {
   "cell_type": "code",
   "execution_count": 19,
   "metadata": {},
   "outputs": [],
   "source": [
    "# добавим ответ в словарь:\n",
    "answers[5] = ans"
   ]
  },
  {
   "cell_type": "markdown",
   "metadata": {},
   "source": [
    "# 6. Какой самый прибыльный фильм?"
   ]
  },
  {
   "cell_type": "code",
   "execution_count": 20,
   "metadata": {},
   "outputs": [
    {
     "data": {
      "text/html": [
       "<div>\n",
       "<style scoped>\n",
       "    .dataframe tbody tr th:only-of-type {\n",
       "        vertical-align: middle;\n",
       "    }\n",
       "\n",
       "    .dataframe tbody tr th {\n",
       "        vertical-align: top;\n",
       "    }\n",
       "\n",
       "    .dataframe thead th {\n",
       "        text-align: right;\n",
       "    }\n",
       "</style>\n",
       "<table border=\"1\" class=\"dataframe\">\n",
       "  <thead>\n",
       "    <tr style=\"text-align: right;\">\n",
       "      <th></th>\n",
       "      <th>imdb_id</th>\n",
       "      <th>budget</th>\n",
       "      <th>revenue</th>\n",
       "      <th>original_title</th>\n",
       "      <th>cast</th>\n",
       "      <th>director</th>\n",
       "      <th>tagline</th>\n",
       "      <th>overview</th>\n",
       "      <th>runtime</th>\n",
       "      <th>genres</th>\n",
       "      <th>production_companies</th>\n",
       "      <th>release_date</th>\n",
       "      <th>vote_average</th>\n",
       "      <th>release_year</th>\n",
       "      <th>profit</th>\n",
       "    </tr>\n",
       "  </thead>\n",
       "  <tbody>\n",
       "    <tr>\n",
       "      <th>239</th>\n",
       "      <td>tt0499549</td>\n",
       "      <td>237000000</td>\n",
       "      <td>2781505847</td>\n",
       "      <td>Avatar</td>\n",
       "      <td>Sam Worthington|Zoe Saldana|Sigourney Weaver|S...</td>\n",
       "      <td>James Cameron</td>\n",
       "      <td>Enter the World of Pandora.</td>\n",
       "      <td>In the 22nd century, a paraplegic Marine is di...</td>\n",
       "      <td>162</td>\n",
       "      <td>Action|Adventure|Fantasy|Science Fiction</td>\n",
       "      <td>Ingenious Film Partners|Twentieth Century Fox ...</td>\n",
       "      <td>12/10/2009</td>\n",
       "      <td>7.1</td>\n",
       "      <td>2009</td>\n",
       "      <td>2544505847</td>\n",
       "    </tr>\n",
       "  </tbody>\n",
       "</table>\n",
       "</div>"
      ],
      "text/plain": [
       "       imdb_id     budget     revenue original_title  \\\n",
       "239  tt0499549  237000000  2781505847         Avatar   \n",
       "\n",
       "                                                  cast       director  \\\n",
       "239  Sam Worthington|Zoe Saldana|Sigourney Weaver|S...  James Cameron   \n",
       "\n",
       "                         tagline  \\\n",
       "239  Enter the World of Pandora.   \n",
       "\n",
       "                                              overview  runtime  \\\n",
       "239  In the 22nd century, a paraplegic Marine is di...      162   \n",
       "\n",
       "                                       genres  \\\n",
       "239  Action|Adventure|Fantasy|Science Fiction   \n",
       "\n",
       "                                  production_companies release_date  \\\n",
       "239  Ingenious Film Partners|Twentieth Century Fox ...   12/10/2009   \n",
       "\n",
       "     vote_average  release_year      profit  \n",
       "239           7.1          2009  2544505847  "
      ]
     },
     "metadata": {},
     "output_type": "display_data"
    }
   ],
   "source": [
    "# вот и пригодился наш столбец с расчитанной прибылью по каждому фильму\n",
    "# найдем по этому столбцу фильм с максимальной прибылью\n",
    "data_6 = data[data.profit == data.profit.max()]\n",
    "display(data_6)"
   ]
  },
  {
   "cell_type": "code",
   "execution_count": 21,
   "metadata": {},
   "outputs": [
    {
     "name": "stdout",
     "output_type": "stream",
     "text": [
      "Самый прибыльный фильм - \"Avatar\"\n"
     ]
    }
   ],
   "source": [
    "# и этим фильмом оказался... (барабанная дробь!!!, та-дам)... - \"Аватар\" Джеймса Кэмерона!!!'\n",
    "print('Самый прибыльный фильм - \"Avatar\"')\n",
    "# не забываем про наш словарик:\n",
    "answers[6] = 'Avatar (tt0499549)'"
   ]
  },
  {
   "cell_type": "markdown",
   "metadata": {},
   "source": [
    "# 7. Какой фильм самый убыточный?"
   ]
  },
  {
   "cell_type": "code",
   "execution_count": 22,
   "metadata": {},
   "outputs": [
    {
     "data": {
      "text/html": [
       "<div>\n",
       "<style scoped>\n",
       "    .dataframe tbody tr th:only-of-type {\n",
       "        vertical-align: middle;\n",
       "    }\n",
       "\n",
       "    .dataframe tbody tr th {\n",
       "        vertical-align: top;\n",
       "    }\n",
       "\n",
       "    .dataframe thead th {\n",
       "        text-align: right;\n",
       "    }\n",
       "</style>\n",
       "<table border=\"1\" class=\"dataframe\">\n",
       "  <thead>\n",
       "    <tr style=\"text-align: right;\">\n",
       "      <th></th>\n",
       "      <th>imdb_id</th>\n",
       "      <th>budget</th>\n",
       "      <th>revenue</th>\n",
       "      <th>original_title</th>\n",
       "      <th>cast</th>\n",
       "      <th>director</th>\n",
       "      <th>tagline</th>\n",
       "      <th>overview</th>\n",
       "      <th>runtime</th>\n",
       "      <th>genres</th>\n",
       "      <th>production_companies</th>\n",
       "      <th>release_date</th>\n",
       "      <th>vote_average</th>\n",
       "      <th>release_year</th>\n",
       "      <th>profit</th>\n",
       "    </tr>\n",
       "  </thead>\n",
       "  <tbody>\n",
       "    <tr>\n",
       "      <th>1245</th>\n",
       "      <td>tt1210819</td>\n",
       "      <td>255000000</td>\n",
       "      <td>89289910</td>\n",
       "      <td>The Lone Ranger</td>\n",
       "      <td>Johnny Depp|Armie Hammer|William Fichtner|Hele...</td>\n",
       "      <td>Gore Verbinski</td>\n",
       "      <td>Never Take Off the Mask</td>\n",
       "      <td>The Texas Rangers chase down a gang of outlaws...</td>\n",
       "      <td>149</td>\n",
       "      <td>Action|Adventure|Western</td>\n",
       "      <td>Walt Disney Pictures|Jerry Bruckheimer Films|I...</td>\n",
       "      <td>7/3/2013</td>\n",
       "      <td>6.0</td>\n",
       "      <td>2013</td>\n",
       "      <td>-165710090</td>\n",
       "    </tr>\n",
       "  </tbody>\n",
       "</table>\n",
       "</div>"
      ],
      "text/plain": [
       "        imdb_id     budget   revenue   original_title  \\\n",
       "1245  tt1210819  255000000  89289910  The Lone Ranger   \n",
       "\n",
       "                                                   cast        director  \\\n",
       "1245  Johnny Depp|Armie Hammer|William Fichtner|Hele...  Gore Verbinski   \n",
       "\n",
       "                      tagline  \\\n",
       "1245  Never Take Off the Mask   \n",
       "\n",
       "                                               overview  runtime  \\\n",
       "1245  The Texas Rangers chase down a gang of outlaws...      149   \n",
       "\n",
       "                        genres  \\\n",
       "1245  Action|Adventure|Western   \n",
       "\n",
       "                                   production_companies release_date  \\\n",
       "1245  Walt Disney Pictures|Jerry Bruckheimer Films|I...     7/3/2013   \n",
       "\n",
       "      vote_average  release_year     profit  \n",
       "1245           6.0          2013 -165710090  "
      ]
     },
     "metadata": {},
     "output_type": "display_data"
    }
   ],
   "source": [
    "# найдем по столбцу с прибылью фильм с максимальными убытками:\n",
    "data_7 = data[data.profit == data.profit.min()]\n",
    "display(data_7)"
   ]
  },
  {
   "cell_type": "code",
   "execution_count": 23,
   "metadata": {},
   "outputs": [
    {
     "name": "stdout",
     "output_type": "stream",
     "text": [
      "Самый убыточный фильм из списка - \"The Lone Ranger\"\n"
     ]
    }
   ],
   "source": [
    "# самым убыточным фильмом по этому списку оказался \"Одинокий рейнджер\"\n",
    "print('Самый убыточный фильм из списка - \"The Lone Ranger\"')\n",
    "# хмм, на сайте кинопоиска указано, что фильм совсем не убыточный (кому верить???)\n",
    "# ответ в словарь:\n",
    "answers[7] = 'The Lone Ranger (tt1210819)'"
   ]
  },
  {
   "cell_type": "markdown",
   "metadata": {},
   "source": [
    "# 8. У скольких фильмов из датасета объем сборов оказался выше бюджета?"
   ]
  },
  {
   "cell_type": "code",
   "execution_count": 24,
   "metadata": {},
   "outputs": [
    {
     "name": "stdout",
     "output_type": "stream",
     "text": [
      "1478\n"
     ]
    }
   ],
   "source": [
    "# создадим новую таблицу, куда включим только те фильмы, у которых кассовые сборы оказались больше заложенного бюджета:\n",
    "data_8 = data[data.revenue > data.budget]\n",
    "# узнаем, сколько таких фильмов:\n",
    "print(len(data_8))"
   ]
  },
  {
   "cell_type": "markdown",
   "metadata": {},
   "source": [
    "ВАРИАНТ 2"
   ]
  },
  {
   "cell_type": "code",
   "execution_count": 25,
   "metadata": {},
   "outputs": [
    {
     "name": "stdout",
     "output_type": "stream",
     "text": [
      "1478\n"
     ]
    }
   ],
   "source": [
    "# второй вариант - используем функцию nunique:\n",
    "ans = data[data.profit > 0]['imdb_id'].nunique()\n",
    "print(ans)"
   ]
  },
  {
   "cell_type": "code",
   "execution_count": 26,
   "metadata": {},
   "outputs": [
    {
     "name": "stdout",
     "output_type": "stream",
     "text": [
      "Объем сборов оказался выше бюджета у 1478 фильмов\n"
     ]
    }
   ],
   "source": [
    "# судя по данным из списка, около 20% всех фильмов оказались убыточными (но, мы знаем, что на сайте кинопоиска совсем другие данные)\n",
    "print(f'Объем сборов оказался выше бюджета у {ans} фильмов')\n",
    "# ответ в словарь:\n",
    "answers[8] = len(data_8)"
   ]
  },
  {
   "cell_type": "markdown",
   "metadata": {},
   "source": [
    "# 9. Какой фильм оказался самым кассовым в 2008 году?"
   ]
  },
  {
   "cell_type": "code",
   "execution_count": 27,
   "metadata": {},
   "outputs": [
    {
     "data": {
      "text/html": [
       "<div>\n",
       "<style scoped>\n",
       "    .dataframe tbody tr th:only-of-type {\n",
       "        vertical-align: middle;\n",
       "    }\n",
       "\n",
       "    .dataframe tbody tr th {\n",
       "        vertical-align: top;\n",
       "    }\n",
       "\n",
       "    .dataframe thead th {\n",
       "        text-align: right;\n",
       "    }\n",
       "</style>\n",
       "<table border=\"1\" class=\"dataframe\">\n",
       "  <thead>\n",
       "    <tr style=\"text-align: right;\">\n",
       "      <th></th>\n",
       "      <th>imdb_id</th>\n",
       "      <th>budget</th>\n",
       "      <th>revenue</th>\n",
       "      <th>original_title</th>\n",
       "      <th>cast</th>\n",
       "      <th>director</th>\n",
       "      <th>tagline</th>\n",
       "      <th>overview</th>\n",
       "      <th>runtime</th>\n",
       "      <th>genres</th>\n",
       "      <th>production_companies</th>\n",
       "      <th>release_date</th>\n",
       "      <th>vote_average</th>\n",
       "      <th>release_year</th>\n",
       "      <th>profit</th>\n",
       "    </tr>\n",
       "  </thead>\n",
       "  <tbody>\n",
       "    <tr>\n",
       "      <th>599</th>\n",
       "      <td>tt0468569</td>\n",
       "      <td>185000000</td>\n",
       "      <td>1001921825</td>\n",
       "      <td>The Dark Knight</td>\n",
       "      <td>Christian Bale|Michael Caine|Heath Ledger|Aaro...</td>\n",
       "      <td>Christopher Nolan</td>\n",
       "      <td>Why So Serious?</td>\n",
       "      <td>Batman raises the stakes in his war on crime. ...</td>\n",
       "      <td>152</td>\n",
       "      <td>Drama|Action|Crime|Thriller</td>\n",
       "      <td>DC Comics|Legendary Pictures|Warner Bros.|Syncopy</td>\n",
       "      <td>7/16/2008</td>\n",
       "      <td>8.1</td>\n",
       "      <td>2008</td>\n",
       "      <td>816921825</td>\n",
       "    </tr>\n",
       "  </tbody>\n",
       "</table>\n",
       "</div>"
      ],
      "text/plain": [
       "       imdb_id     budget     revenue   original_title  \\\n",
       "599  tt0468569  185000000  1001921825  The Dark Knight   \n",
       "\n",
       "                                                  cast           director  \\\n",
       "599  Christian Bale|Michael Caine|Heath Ledger|Aaro...  Christopher Nolan   \n",
       "\n",
       "             tagline                                           overview  \\\n",
       "599  Why So Serious?  Batman raises the stakes in his war on crime. ...   \n",
       "\n",
       "     runtime                       genres  \\\n",
       "599      152  Drama|Action|Crime|Thriller   \n",
       "\n",
       "                                  production_companies release_date  \\\n",
       "599  DC Comics|Legendary Pictures|Warner Bros.|Syncopy    7/16/2008   \n",
       "\n",
       "     vote_average  release_year     profit  \n",
       "599           8.1          2008  816921825  "
      ]
     },
     "metadata": {},
     "output_type": "display_data"
    }
   ],
   "source": [
    "# разминка закончилась, дальше вопросы пойдут чуть сложнее (и почему я не удивлен?)\n",
    "# создадим новый список, куда включим только те фильмы, которые вышли только в 2008 году:\n",
    "data_9 = data[data.release_year == 2008]\n",
    "# из нового списка найдет фильм с самым большим кассовым сбором:\n",
    "data_9 = data_9[data_9.revenue == data_9.revenue.max()]\n",
    "display(data_9)"
   ]
  },
  {
   "cell_type": "code",
   "execution_count": 28,
   "metadata": {},
   "outputs": [
    {
     "name": "stdout",
     "output_type": "stream",
     "text": [
      "Самый кассовый фильм 2008 года - \"The Dark Knight\"\n"
     ]
    }
   ],
   "source": [
    "print('Самый кассовый фильм 2008 года - \"The Dark Knight\"')\n",
    "# добавим Бэтмена в словарь к нашим ответам:\n",
    "answers[9] = 'The Dark Knight (tt0468569)'"
   ]
  },
  {
   "cell_type": "markdown",
   "metadata": {},
   "source": [
    "# 10. Самый убыточный фильм за период с 2012 по 2014 г. (включительно)?"
   ]
  },
  {
   "cell_type": "code",
   "execution_count": 29,
   "metadata": {},
   "outputs": [
    {
     "data": {
      "text/html": [
       "<div>\n",
       "<style scoped>\n",
       "    .dataframe tbody tr th:only-of-type {\n",
       "        vertical-align: middle;\n",
       "    }\n",
       "\n",
       "    .dataframe tbody tr th {\n",
       "        vertical-align: top;\n",
       "    }\n",
       "\n",
       "    .dataframe thead th {\n",
       "        text-align: right;\n",
       "    }\n",
       "</style>\n",
       "<table border=\"1\" class=\"dataframe\">\n",
       "  <thead>\n",
       "    <tr style=\"text-align: right;\">\n",
       "      <th></th>\n",
       "      <th>imdb_id</th>\n",
       "      <th>budget</th>\n",
       "      <th>revenue</th>\n",
       "      <th>original_title</th>\n",
       "      <th>cast</th>\n",
       "      <th>director</th>\n",
       "      <th>tagline</th>\n",
       "      <th>overview</th>\n",
       "      <th>runtime</th>\n",
       "      <th>genres</th>\n",
       "      <th>production_companies</th>\n",
       "      <th>release_date</th>\n",
       "      <th>vote_average</th>\n",
       "      <th>release_year</th>\n",
       "      <th>profit</th>\n",
       "    </tr>\n",
       "  </thead>\n",
       "  <tbody>\n",
       "    <tr>\n",
       "      <th>1245</th>\n",
       "      <td>tt1210819</td>\n",
       "      <td>255000000</td>\n",
       "      <td>89289910</td>\n",
       "      <td>The Lone Ranger</td>\n",
       "      <td>Johnny Depp|Armie Hammer|William Fichtner|Hele...</td>\n",
       "      <td>Gore Verbinski</td>\n",
       "      <td>Never Take Off the Mask</td>\n",
       "      <td>The Texas Rangers chase down a gang of outlaws...</td>\n",
       "      <td>149</td>\n",
       "      <td>Action|Adventure|Western</td>\n",
       "      <td>Walt Disney Pictures|Jerry Bruckheimer Films|I...</td>\n",
       "      <td>7/3/2013</td>\n",
       "      <td>6.0</td>\n",
       "      <td>2013</td>\n",
       "      <td>-165710090</td>\n",
       "    </tr>\n",
       "  </tbody>\n",
       "</table>\n",
       "</div>"
      ],
      "text/plain": [
       "        imdb_id     budget   revenue   original_title  \\\n",
       "1245  tt1210819  255000000  89289910  The Lone Ranger   \n",
       "\n",
       "                                                   cast        director  \\\n",
       "1245  Johnny Depp|Armie Hammer|William Fichtner|Hele...  Gore Verbinski   \n",
       "\n",
       "                      tagline  \\\n",
       "1245  Never Take Off the Mask   \n",
       "\n",
       "                                               overview  runtime  \\\n",
       "1245  The Texas Rangers chase down a gang of outlaws...      149   \n",
       "\n",
       "                        genres  \\\n",
       "1245  Action|Adventure|Western   \n",
       "\n",
       "                                   production_companies release_date  \\\n",
       "1245  Walt Disney Pictures|Jerry Bruckheimer Films|I...     7/3/2013   \n",
       "\n",
       "      vote_average  release_year     profit  \n",
       "1245           6.0          2013 -165710090  "
      ]
     },
     "metadata": {},
     "output_type": "display_data"
    }
   ],
   "source": [
    "# создадим новый список, куда включим только те фильмы, которые вышли в период с 2012 по 2014 г. (включительно):\n",
    "data_10 = data.query('release_year in [2012, 2013, 2014]')\n",
    "# найдем самый убыточный фильм из нового списка:\n",
    "data_10 = data_10[data_10.profit == data_10.profit.min()]\n",
    "display(data_10)"
   ]
  },
  {
   "cell_type": "code",
   "execution_count": 30,
   "metadata": {},
   "outputs": [
    {
     "name": "stdout",
     "output_type": "stream",
     "text": [
      "Самый убыточный фильм за период с 2012 по 2014 г. (включительно) - \"The Lone Ranger\"\n"
     ]
    }
   ],
   "source": [
    "# опять \"Одинокий рейнджер\"\n",
    "print('Самый убыточный фильм за период с 2012 по 2014 г. (включительно) - \"The Lone Ranger\"')\n",
    "# еще раз добавим его в словарик:\n",
    "answers[10] = 'The Lone Ranger (tt1210819)'"
   ]
  },
  {
   "cell_type": "markdown",
   "metadata": {},
   "source": [
    "# 11. Какого жанра фильмов больше всего?"
   ]
  },
  {
   "cell_type": "code",
   "execution_count": 31,
   "metadata": {},
   "outputs": [
    {
     "name": "stdout",
     "output_type": "stream",
     "text": [
      "В списке больше всего фильмов жанра - Drama\n"
     ]
    }
   ],
   "source": [
    "# создадим копию списка, а то вдруг испортится:\n",
    "data_11 = data.copy()\n",
    "# ого! почти у каждого фильма несколько жанров, вот это задачка!\n",
    "# разделяем жанры в список из каждой ячейки:\n",
    "data_11['genres'] = data_11.genres.str.split('|')\n",
    "# разделяем жанры из списка в отдельные строки (увеличиваем наш список: была одна строчка с фильмом с тремя жанрами,\n",
    "# будет три строчки одного и того же фильма, но в каждой строчке отдельный жанр)\n",
    "data_11 = data_11.explode('genres')\n",
    "# теперь без проблем посчитаем, какие жанры нам повстречаются в этом списке и выведем самый популярный:\n",
    "ans = data_11.genres.value_counts().index[0]\n",
    "print(f'В списке больше всего фильмов жанра - {ans}')\n",
    "# добавим в словарь самый популярный жанр (Драма):\n",
    "answers[11] = ans"
   ]
  },
  {
   "cell_type": "markdown",
   "metadata": {},
   "source": [
    "# 12. Фильмы какого жанра чаще всего становятся прибыльными?"
   ]
  },
  {
   "cell_type": "code",
   "execution_count": 32,
   "metadata": {},
   "outputs": [
    {
     "name": "stdout",
     "output_type": "stream",
     "text": [
      "Чаще всего становятся прибыльными фильмы жанра Drama\n"
     ]
    }
   ],
   "source": [
    "# создадим новый список, куда включим только те фильмы, которые принесли прибыль:\n",
    "data_12 = data.query('revenue > budget').copy()\n",
    "# разделим жанры:\n",
    "data_12['genres'] = data_12.genres.str.split('|')\n",
    "# увеличиваем список за счет разделения жанров в разные строки:\n",
    "data_12 = data_12.explode('genres')\n",
    "# выведем самый прибыльный жанр:\n",
    "ans = data_12.genres.value_counts().index[0]\n",
    "print(f'Чаще всего становятся прибыльными фильмы жанра {ans}')\n",
    "# и добавим в наш словарь самый прибыльный жанр (снова драма):\n",
    "answers[12] = ans"
   ]
  },
  {
   "cell_type": "markdown",
   "metadata": {},
   "source": [
    "# 13. У какого режиссера самые большие суммарные кассовые сборы?"
   ]
  },
  {
   "cell_type": "code",
   "execution_count": 33,
   "metadata": {},
   "outputs": [
    {
     "name": "stdout",
     "output_type": "stream",
     "text": [
      "Самые большие суммарные кассовые сборы у режиссера Peter Jackson\n"
     ]
    }
   ],
   "source": [
    "# создаем копию списка:\n",
    "data_13 = data.copy()\n",
    "# разделяем режиссеров:\n",
    "data_13['director'] = data_13.director.str.split('|')\n",
    "# каждого режиссера - в отдельную строку:\n",
    "data_13 = data_13.explode('director')\n",
    "# суммируем каждого режиссера по кассовым сборам:\n",
    "ans = data_13.groupby(['director'])['revenue'].sum().sort_values(ascending=False).index[0]\n",
    "print(f'Самые большие суммарные кассовые сборы у режиссера {ans}')\n",
    "# добавляем Питера Джексона с его Хоббитами и Властелинами Колец (и не забываем про Кинг Конга) в словарик:\n",
    "answers[13] = ans"
   ]
  },
  {
   "cell_type": "markdown",
   "metadata": {},
   "source": [
    "# 14. Какой режисер снял больше всего фильмов в стиле Action?"
   ]
  },
  {
   "cell_type": "code",
   "execution_count": 34,
   "metadata": {},
   "outputs": [
    {
     "name": "stdout",
     "output_type": "stream",
     "text": [
      "Больше всего фильмов в стиле Action снял Robert Rodriguez\n"
     ]
    }
   ],
   "source": [
    "# тут уже по накатанной - создаем копию списка:\n",
    "data_14 = data.copy()\n",
    "# фильтруем по жанру \"Action\":\n",
    "data_14 = data_14[data_14.genres.str.contains(\"Action\", na=False)]\n",
    "# разделяем режиссеров:\n",
    "data_14['director'] = data_14.director.str.split('|').copy()\n",
    "# каждого режиссера - в отдельную строку:\n",
    "data_14 = data_14.explode('director')\n",
    "# считаем по каждому режиссеру фильмы в жанре \"Action\", выводим самого популярного:\n",
    "ans = data_14.groupby(['director'])['genres'].count().sort_values(ascending = False).index[0]\n",
    "print(f'Больше всего фильмов в стиле Action снял {ans}')\n",
    "# и добавляем Родригеса в нашу копилочку, тьфу... в словарик:\n",
    "answers[14] = ans"
   ]
  },
  {
   "cell_type": "markdown",
   "metadata": {},
   "source": [
    "# 15. Фильмы с каким актером принесли самые высокие кассовые сборы в 2012 году?"
   ]
  },
  {
   "cell_type": "code",
   "execution_count": 35,
   "metadata": {},
   "outputs": [
    {
     "name": "stdout",
     "output_type": "stream",
     "text": [
      "Самые высокие кассовые сборы в 2012 году принесли с актером Chris Hemsworth\n"
     ]
    }
   ],
   "source": [
    "# копируем список:\n",
    "data_15 = data.copy()\n",
    "# фильтруем по 2012 году:\n",
    "data_15 = data_15[data_15.release_year == 2012]\n",
    "# разделяем актеров:\n",
    "data_15['cast'] = data_15.cast.str.split('|').copy()\n",
    "# каждого актера - в отдельную строку:\n",
    "data_15 = data_15.explode('cast')\n",
    "# суммируем каждого актера по кассовым сборам и выводим самого поплярного:\n",
    "ans = data_15.groupby(['cast'])['revenue'].sum().sort_values(ascending = False).index[0]\n",
    "print(f'Самые высокие кассовые сборы в 2012 году принесли с актером {ans}')\n",
    "# Кто это? Это Крис Хемсворт собственной персоной. Добавим его в словарик:\n",
    "answers[15] = ans"
   ]
  },
  {
   "cell_type": "markdown",
   "metadata": {},
   "source": [
    "# 16. Какой актер снялся в большем количестве высокобюджетных фильмов?"
   ]
  },
  {
   "cell_type": "code",
   "execution_count": 36,
   "metadata": {},
   "outputs": [
    {
     "name": "stdout",
     "output_type": "stream",
     "text": [
      "Matt Damon снялся в большем количестве высокобюджетных фильмов\n"
     ]
    }
   ],
   "source": [
    "# создаем копию списка:\n",
    "data_16 = data.copy()\n",
    "# оставляем в нашем списке только те фильмы, бюджет у которых выше среднего:\n",
    "data_16 = data_16[data_16.budget > data.budget.mean()]\n",
    "# разделяем актеров:\n",
    "data_16['cast'] = data_16.cast.str.split('|').copy()\n",
    "# каждого актера - в отдельную строку:\n",
    "data_16 = data_16.explode('cast')\n",
    "# считаем количество фильмов по каждому актеру:\n",
    "ans = data_16.cast.value_counts().index[0]\n",
    "print(f'{ans} снялся в большем количестве высокобюджетных фильмов')\n",
    "# добавляем Дэймона в словарь:\n",
    "answers[16] = ans"
   ]
  },
  {
   "cell_type": "markdown",
   "metadata": {},
   "source": [
    "# 17. В фильмах какого жанра больше всего снимался Nicolas Cage?"
   ]
  },
  {
   "cell_type": "code",
   "execution_count": 37,
   "metadata": {},
   "outputs": [
    {
     "name": "stdout",
     "output_type": "stream",
     "text": [
      "В фильмах жанра Action больше всего снимался Nicolas Cage\n"
     ]
    }
   ],
   "source": [
    "# создаем копию списка:\n",
    "data_17 = data.copy()\n",
    "# оставляем в нашем списке только те фильмы, где снимался Николас Кейдж:\n",
    "data_17 = data_17[data_17.cast.str.contains(\"Nicolas Cage\", na=False)]\n",
    "# разделяем жанры:\n",
    "data_17['genres'] = data_17.genres.str.split('|').copy()\n",
    "# каждый жанр - в отдельную строк:\n",
    "data_17 = data_17.explode('genres')\n",
    "# считаем количество жанров:\n",
    "ans = data_17.genres.value_counts().index[0]\n",
    "print(f'В фильмах жанра {ans} больше всего снимался Nicolas Cage')\n",
    "# добавим самый популярный жанр в словарь:\n",
    "answers[17] = ans"
   ]
  },
  {
   "cell_type": "markdown",
   "metadata": {},
   "source": [
    "# 18. Самый убыточный фильм от Paramount Pictures"
   ]
  },
  {
   "cell_type": "code",
   "execution_count": 38,
   "metadata": {},
   "outputs": [
    {
     "data": {
      "text/html": [
       "<div>\n",
       "<style scoped>\n",
       "    .dataframe tbody tr th:only-of-type {\n",
       "        vertical-align: middle;\n",
       "    }\n",
       "\n",
       "    .dataframe tbody tr th {\n",
       "        vertical-align: top;\n",
       "    }\n",
       "\n",
       "    .dataframe thead th {\n",
       "        text-align: right;\n",
       "    }\n",
       "</style>\n",
       "<table border=\"1\" class=\"dataframe\">\n",
       "  <thead>\n",
       "    <tr style=\"text-align: right;\">\n",
       "      <th></th>\n",
       "      <th>imdb_id</th>\n",
       "      <th>budget</th>\n",
       "      <th>revenue</th>\n",
       "      <th>original_title</th>\n",
       "      <th>cast</th>\n",
       "      <th>director</th>\n",
       "      <th>tagline</th>\n",
       "      <th>overview</th>\n",
       "      <th>runtime</th>\n",
       "      <th>genres</th>\n",
       "      <th>production_companies</th>\n",
       "      <th>release_date</th>\n",
       "      <th>vote_average</th>\n",
       "      <th>release_year</th>\n",
       "      <th>profit</th>\n",
       "    </tr>\n",
       "  </thead>\n",
       "  <tbody>\n",
       "    <tr>\n",
       "      <th>925</th>\n",
       "      <td>tt0267626</td>\n",
       "      <td>100000000</td>\n",
       "      <td>35168966</td>\n",
       "      <td>K-19: The Widowmaker</td>\n",
       "      <td>Harrison Ford|Liam Neeson|Peter Sarsgaard|Joss...</td>\n",
       "      <td>Kathryn Bigelow</td>\n",
       "      <td>Fate has found its hero.</td>\n",
       "      <td>When Russia's first nuclear submarine malfunct...</td>\n",
       "      <td>138</td>\n",
       "      <td>Thriller|Drama|History</td>\n",
       "      <td>Paramount Pictures|Intermedia Films|National G...</td>\n",
       "      <td>7/19/2002</td>\n",
       "      <td>6.0</td>\n",
       "      <td>2002</td>\n",
       "      <td>-64831034</td>\n",
       "    </tr>\n",
       "  </tbody>\n",
       "</table>\n",
       "</div>"
      ],
      "text/plain": [
       "       imdb_id     budget   revenue        original_title  \\\n",
       "925  tt0267626  100000000  35168966  K-19: The Widowmaker   \n",
       "\n",
       "                                                  cast         director  \\\n",
       "925  Harrison Ford|Liam Neeson|Peter Sarsgaard|Joss...  Kathryn Bigelow   \n",
       "\n",
       "                      tagline  \\\n",
       "925  Fate has found its hero.   \n",
       "\n",
       "                                              overview  runtime  \\\n",
       "925  When Russia's first nuclear submarine malfunct...      138   \n",
       "\n",
       "                     genres  \\\n",
       "925  Thriller|Drama|History   \n",
       "\n",
       "                                  production_companies release_date  \\\n",
       "925  Paramount Pictures|Intermedia Films|National G...    7/19/2002   \n",
       "\n",
       "     vote_average  release_year    profit  \n",
       "925           6.0          2002 -64831034  "
      ]
     },
     "metadata": {},
     "output_type": "display_data"
    }
   ],
   "source": [
    "# создаем копию списка:\n",
    "data_18 = data.copy()\n",
    "# оставляем в списке только те фильмы, которые имели какое-либо отношение к компании \"Paramount Pictures\":\n",
    "data_18 = data_18[data_18.production_companies.str.contains(\"Paramount Pictures\", na=False)]\n",
    "# оставим самый убыточный фильм в нашем списке:\n",
    "data_18 = data_18[data_18.profit == data_18.profit.min()]\n",
    "display(data_18)"
   ]
  },
  {
   "cell_type": "code",
   "execution_count": 39,
   "metadata": {},
   "outputs": [
    {
     "name": "stdout",
     "output_type": "stream",
     "text": [
      "Самый убыточный фильм от Paramount Pictures - \"K-19: The Widowmaker\"\n"
     ]
    }
   ],
   "source": [
    "print('Самый убыточный фильм от Paramount Pictures - \"K-19: The Widowmaker\"')\n",
    "# добавим фильм в словарь:\n",
    "answers[18] = 'K-19: The Widowmaker (tt0267626)'"
   ]
  },
  {
   "cell_type": "markdown",
   "metadata": {},
   "source": [
    "# 19. Какой год стал самым успешным по суммарным кассовым сборам?"
   ]
  },
  {
   "cell_type": "code",
   "execution_count": 40,
   "metadata": {},
   "outputs": [
    {
     "name": "stdout",
     "output_type": "stream",
     "text": [
      "2015 год стал самым успешным по суммарным кассовым сборам\n"
     ]
    }
   ],
   "source": [
    "# сгруппируем список по суммам кассовых сборов по годам\n",
    "data.groupby(['release_year'])['revenue'].sum().sort_values(ascending = False)\n",
    "# кассовые сборы растут с каждым годом, добавим ответ в словарь:\n",
    "ans = data.groupby(['release_year'])['revenue'].sum().sort_values(ascending = False).index[0]\n",
    "print(f'{ans} год стал самым успешным по суммарным кассовым сборам')\n",
    "answers[19] = ans"
   ]
  },
  {
   "cell_type": "markdown",
   "metadata": {},
   "source": [
    "# 20. Какой самый прибыльный год для студии Warner Bros?"
   ]
  },
  {
   "cell_type": "code",
   "execution_count": 41,
   "metadata": {},
   "outputs": [
    {
     "name": "stdout",
     "output_type": "stream",
     "text": [
      "2014 год - самый прибыльный год для студии Warner Bros\n"
     ]
    }
   ],
   "source": [
    "# создаем копию списка:\n",
    "data_20 = data.copy()\n",
    "# оставляем в списке только те фильмы, которые имели какое-либо отношение к компании \"Warner Bros\":\n",
    "data_20 = data_20[data_20.production_companies.str.contains(\"Warner Bros\", na=False)]\n",
    "# отсортируем по годам и суммарной прибылью за каждый год\n",
    "ans = data_20.groupby(['release_year'])['profit'].sum().sort_values(ascending = False).index[0]\n",
    "print(f'{ans} год - самый прибыльный год для студии Warner Bros')\n",
    "# добавим в словарь самый прибыльный 2014 год для студии:\n",
    "answers[20] = ans"
   ]
  },
  {
   "cell_type": "markdown",
   "metadata": {},
   "source": [
    "# 21. В каком месяце за все годы суммарно вышло больше всего фильмов?"
   ]
  },
  {
   "cell_type": "code",
   "execution_count": 42,
   "metadata": {},
   "outputs": [
    {
     "name": "stdout",
     "output_type": "stream",
     "text": [
      "За все годы суммарно вышло больше всего фильмов в месяце September\n"
     ]
    }
   ],
   "source": [
    "# создаем копию списка:\n",
    "data_21 = data.copy()\n",
    "# Указываем модулю datetime, в каком формате задана дата в столбце release_date:\n",
    "data_21.release_date = data.release_date.apply(lambda x: dt.datetime.strptime(x, '%m/%d/%Y'))\n",
    "# Оставляем только название месяца:\n",
    "data_21.release_date = data_21.release_date.apply(lambda x: x.strftime('%B'))\n",
    "# сортируем по месяцам и кол-ву фильмов:\n",
    "ans = data_21.release_date.value_counts().index[0]\n",
    "print(f'За все годы суммарно вышло больше всего фильмов в месяце {ans}')\n",
    "# добавляем в словарь месяц, в котором вышло больше всего фильмов за рассматриваемый промежуток:\n",
    "answers[21] = ans"
   ]
  },
  {
   "cell_type": "markdown",
   "metadata": {},
   "source": [
    "# 22. Сколько суммарно вышло фильмов летом? (за июнь, июль, август)"
   ]
  },
  {
   "cell_type": "code",
   "execution_count": 43,
   "metadata": {},
   "outputs": [
    {
     "name": "stdout",
     "output_type": "stream",
     "text": [
      "Летом суммарно вышло фильмов в количестве 450 шт.\n"
     ]
    }
   ],
   "source": [
    "# создаем копию списка:\n",
    "data_22 = data.copy()\n",
    "# Указываем модулю datetime, в каком формате задана дата в столбце release_date:\n",
    "data_22.release_date = data.release_date.apply(lambda x: dt.datetime.strptime(x, '%m/%d/%Y'))\n",
    "# Оставляем только название месяца:\n",
    "data_22.release_date = data_22.release_date.apply(lambda x: x.strftime('%B'))\n",
    "# Подсчитываем фильмы в летние месяцы:\n",
    "ans = data_22.query('release_date in [\"June\", \"July\", \"August\"]').shape[0]\n",
    "print(f'Летом суммарно вышло фильмов в количестве {ans} шт.')\n",
    "answers[22] = ans"
   ]
  },
  {
   "cell_type": "markdown",
   "metadata": {},
   "source": [
    "# 23. Для какого режиссера зима – самое продуктивное время года?"
   ]
  },
  {
   "cell_type": "code",
   "execution_count": 44,
   "metadata": {},
   "outputs": [
    {
     "name": "stdout",
     "output_type": "stream",
     "text": [
      "Зима – самое продуктивное время года для режиссера Peter Jackson\n"
     ]
    }
   ],
   "source": [
    "# создаем копию списка:\n",
    "data_23 = data.copy()\n",
    "# Указываем модулю datetime, в каком формате задана дата в столбце release_date:\n",
    "data_23.release_date = data.release_date.apply(lambda x: dt.datetime.strptime(x, '%m/%d/%Y'))\n",
    "# Оставляем только название месяца:\n",
    "data_23.release_date = data_23.release_date.apply(lambda x: x.strftime('%B'))\n",
    "# Оставляем только зимное месяцы:\n",
    "data_23 = data_23.query('release_date in [\"December\", \"January\", \"February\"]')\n",
    "# разделяем режиссеров:\n",
    "data_23['director'] = data_23.director.str.split('|').copy()\n",
    "# добавляем каждого режиссера в отдельную строку:\n",
    "data_23 = data_23.explode('director')\n",
    "# подсчитываем количество фильмов для каждого режиссера:\n",
    "ans = data_23.groupby(['director'])['imdb_id'].count().sort_values(ascending = False).index[0]\n",
    "print(f'Зима – самое продуктивное время года для режиссера {ans}')\n",
    "answers[23] = ans"
   ]
  },
  {
   "cell_type": "markdown",
   "metadata": {},
   "source": [
    "# 24. Какая студия дает самые длинные названия своим фильмам по количеству символов?"
   ]
  },
  {
   "cell_type": "code",
   "execution_count": 45,
   "metadata": {},
   "outputs": [
    {
     "name": "stdout",
     "output_type": "stream",
     "text": [
      "Four By Two Productions студия дает самые длинные названия своим фильмам по количеству символов\n"
     ]
    }
   ],
   "source": [
    "# создаем копию списка:\n",
    "data_24 = data.copy()\n",
    "# разделяем студии:\n",
    "data_24['production_companies'] = data_24.production_companies.str.split('|')\n",
    "# разделяем студии в отдельные строки:\n",
    "data_24 = data_24.explode('production_companies')\n",
    "# формируем новый столбец с длиной названия фильма\n",
    "data_24['len_title'] = data_24['original_title'].apply(len)\n",
    "# группируем по студиям с подсчетом средней длины, сортируем по убыванию и оставляем первую строку для ответа\n",
    "ans = data_24.groupby(['production_companies'])['len_title'].mean().sort_values(ascending=False).index[0]\n",
    "print(f'{ans} студия дает самые длинные названия своим фильмам по количеству символов')\n",
    "answers[24] = ans"
   ]
  },
  {
   "cell_type": "markdown",
   "metadata": {},
   "source": [
    "# 25. Описание фильмов какой студии в среднем самые длинные по количеству слов?"
   ]
  },
  {
   "cell_type": "code",
   "execution_count": 46,
   "metadata": {},
   "outputs": [
    {
     "name": "stdout",
     "output_type": "stream",
     "text": [
      "Описание фильмов студии Midnight Picture Show в среднем самые длинные по количеству слов\n"
     ]
    }
   ],
   "source": [
    "# создаем копию списка:\n",
    "data_25 = data.copy()\n",
    "# разделяем студии:\n",
    "data_25['production_companies'] = data_25.production_companies.str.split('|')\n",
    "# разделяем студии в отдельные строки:\n",
    "data_25 = data_25.explode('production_companies')\n",
    "# формируем новый столбец с длиной описания фильма по количеству слов(ищем по количеству пробелов между словами)\n",
    "data_25['len_overview'] = data_25['overview'].apply(lambda x:len(x.split(' ')))\n",
    "# группируем по студиям с подсчетом средней длины, сортируем по убыванию и оставляем первую строку для ответа\n",
    "ans = data_25.groupby(['production_companies'])['len_overview'].mean().sort_values(ascending=False).index[0]\n",
    "print(f'Описание фильмов студии {ans} в среднем самые длинные по количеству слов')\n",
    "answers[25] = ans"
   ]
  },
  {
   "cell_type": "markdown",
   "metadata": {},
   "source": [
    "# 26. Какие фильмы входят в 1 процент лучших по рейтингу?"
   ]
  },
  {
   "cell_type": "code",
   "execution_count": 47,
   "metadata": {},
   "outputs": [
    {
     "name": "stdout",
     "output_type": "stream",
     "text": [
      "В 1 процент лучших по рейтингу входят фильмы: Inside Out, Room, Interstellar, Guardians of the Galaxy, The Imitation Game, Gone Girl, The Grand Budapest Hotel, Inception, The Dark Knight, The Pianist, The Lord of the Rings: The Return of the King, The Wolf of Wall Street, 12 Years a Slave, Memento\n"
     ]
    }
   ],
   "source": [
    "# создаем копию списка:\n",
    "data_26 = data.copy()\n",
    "# оставляем в нашем списке только 1 процент лучших по рейтингу:\n",
    "data_26 = data_26[data_26['vote_average'] > data_26['vote_average'].quantile(q = 0.99)]\n",
    "ans = ['Inside Out',\n",
    "       'Room',\n",
    "       'Interstellar',\n",
    "       'Guardians of the Galaxy',\n",
    "       'The Imitation Game',\n",
    "       'Gone Girl',\n",
    "       'The Grand Budapest Hotel',\n",
    "       'Inception',\n",
    "       'The Dark Knight',\n",
    "       'The Pianist',\n",
    "       'The Lord of the Rings: The Return of the King',\n",
    "       'The Wolf of Wall Street',\n",
    "       '12 Years a Slave',\n",
    "       'Memento']\n",
    "print('В 1 процент лучших по рейтингу входят фильмы: ', end='')\n",
    "print(*ans, sep=', ')\n",
    "answers[26] = ans"
   ]
  },
  {
   "cell_type": "markdown",
   "metadata": {},
   "source": [
    "# 27. Какие актеры чаще всего снимаются в одном фильме вместе?"
   ]
  },
  {
   "cell_type": "code",
   "execution_count": 48,
   "metadata": {},
   "outputs": [
    {
     "name": "stdout",
     "output_type": "stream",
     "text": [
      "Список актеров, которые чаще всего снимаются в одном фильме вместе: (('Daniel Radcliffe', 'Rupert Grint'), 8) (('Daniel Radcliffe', 'Emma Watson'), 8) (('Rupert Grint', 'Emma Watson'), 7) (('Ben Stiller', 'Owen Wilson'), 6) (('Johnny Depp', 'Helena Bonham Carter'), 6)\n"
     ]
    }
   ],
   "source": [
    "# создаем пустой словарь при помощи модуля collections:\n",
    "pairs = collections.Counter()\n",
    "for i in range(len(data)):\n",
    "    # из каждого фильма собираем список актеров:\n",
    "    artists = data.cast[i].split('|')\n",
    "    for j in list(itertools.combinations(artists, 2)):\n",
    "        # в списке актеров, соберем пары для каждого актера друг с другом:\n",
    "        # если такой пары в нашем словаре еще нет:\n",
    "        if j not in pairs:\n",
    "            # добавляем пару и присваиваем этой паре значение 1(вместе снимаются в фильме)\n",
    "            pairs[j] = 1\n",
    "        # если пара существует:\n",
    "        else:\n",
    "            # увеличиваем количество фильмов на 1\n",
    "            pairs[j] += 1\n",
    "# в ответе выведем 5 пар, которые чаще всего снимаются вместе:\n",
    "ans = pairs.most_common(5)\n",
    "print('Список актеров, которые чаще всего снимаются в одном фильме вместе:', *ans)\n",
    "answers[27] = ans"
   ]
  },
  {
   "cell_type": "code",
   "execution_count": 49,
   "metadata": {},
   "outputs": [
    {
     "ename": "TypeError",
     "evalue": "unhashable type: 'list'",
     "output_type": "error",
     "traceback": [
      "\u001b[1;31m---------------------------------------------------------------------------\u001b[0m",
      "\u001b[1;31mTypeError\u001b[0m                                 Traceback (most recent call last)",
      "\u001b[1;32mpandas\\_libs\\hashtable_class_helper.pxi\u001b[0m in \u001b[0;36mpandas._libs.hashtable.PyObjectHashTable.map_locations\u001b[1;34m()\u001b[0m\n",
      "\u001b[1;31mTypeError\u001b[0m: unhashable type: 'list'"
     ]
    },
    {
     "name": "stderr",
     "output_type": "stream",
     "text": [
      "Exception ignored in: 'pandas._libs.index.IndexEngine._call_map_locations'\n",
      "Traceback (most recent call last):\n",
      "  File \"pandas\\_libs\\hashtable_class_helper.pxi\", line 1709, in pandas._libs.hashtable.PyObjectHashTable.map_locations\n",
      "TypeError: unhashable type: 'list'\n"
     ]
    },
    {
     "data": {
      "text/plain": [
       "[Emma Watson, Rupert Grint]         8\n",
       "[Daniel Radcliffe, Rupert Grint]    8\n",
       "[Daniel Radcliffe, Emma Watson]     8\n",
       "[Emma Watson, Daniel Radcliffe]     8\n",
       "[Rupert Grint, Emma Watson]         8\n",
       "[Rupert Grint, Daniel Radcliffe]    8\n",
       "[Owen Wilson, Ben Stiller]          6\n",
       "Name: cast, dtype: int64"
      ]
     },
     "metadata": {},
     "output_type": "display_data"
    },
    {
     "ename": "KeyboardInterrupt",
     "evalue": "",
     "output_type": "error",
     "traceback": [
      "\u001b[1;31m---------------------------------------------------------------------------\u001b[0m",
      "\u001b[1;31mKeyboardInterrupt\u001b[0m                         Traceback (most recent call last)",
      "\u001b[1;32m<ipython-input-49-461a6de06000>\u001b[0m in \u001b[0;36m<module>\u001b[1;34m\u001b[0m\n\u001b[0;32m     24\u001b[0m \u001b[1;31m# Ответ на Вопрос 27:\u001b[0m\u001b[1;33m\u001b[0m\u001b[1;33m\u001b[0m\u001b[1;33m\u001b[0m\u001b[0m\n\u001b[0;32m     25\u001b[0m \u001b[0mname1\u001b[0m\u001b[1;33m,\u001b[0m \u001b[0mname2\u001b[0m \u001b[1;33m=\u001b[0m \u001b[0mdf\u001b[0m\u001b[1;33m.\u001b[0m\u001b[0mcast\u001b[0m\u001b[1;33m.\u001b[0m\u001b[0mvalue_counts\u001b[0m\u001b[1;33m(\u001b[0m\u001b[1;33m)\u001b[0m\u001b[1;33m.\u001b[0m\u001b[0mindex\u001b[0m\u001b[1;33m[\u001b[0m\u001b[1;36m0\u001b[0m\u001b[1;33m]\u001b[0m\u001b[1;33m\u001b[0m\u001b[1;33m\u001b[0m\u001b[0m\n\u001b[1;32m---> 26\u001b[1;33m \u001b[0mname12\u001b[0m\u001b[1;33m,\u001b[0m \u001b[0mname22\u001b[0m \u001b[1;33m=\u001b[0m \u001b[0mdf\u001b[0m\u001b[1;33m.\u001b[0m\u001b[0mcast\u001b[0m\u001b[1;33m.\u001b[0m\u001b[0mvalue_counts\u001b[0m\u001b[1;33m(\u001b[0m\u001b[1;33m)\u001b[0m\u001b[1;33m.\u001b[0m\u001b[0mindex\u001b[0m\u001b[1;33m[\u001b[0m\u001b[1;36m1\u001b[0m\u001b[1;33m]\u001b[0m\u001b[1;33m\u001b[0m\u001b[1;33m\u001b[0m\u001b[0m\n\u001b[0m\u001b[0;32m     27\u001b[0m \u001b[0mprint\u001b[0m\u001b[1;33m(\u001b[0m\u001b[1;34mf'Чаще всего в одном фильме снимается пара {name1} & {name2},'\u001b[0m\u001b[1;33m)\u001b[0m\u001b[1;33m\u001b[0m\u001b[1;33m\u001b[0m\u001b[0m\n\u001b[0;32m     28\u001b[0m \u001b[0mprint\u001b[0m\u001b[1;33m(\u001b[0m\u001b[1;34mf'а также - пара {name12} & {name22}.'\u001b[0m\u001b[1;33m)\u001b[0m\u001b[1;33m\u001b[0m\u001b[1;33m\u001b[0m\u001b[0m\n",
      "\u001b[1;32m~\\anaconda3\\lib\\site-packages\\pandas\\core\\base.py\u001b[0m in \u001b[0;36mvalue_counts\u001b[1;34m(self, normalize, sort, ascending, bins, dropna)\u001b[0m\n\u001b[0;32m   1243\u001b[0m         \u001b[0mdtype\u001b[0m\u001b[1;33m:\u001b[0m \u001b[0mint64\u001b[0m\u001b[1;33m\u001b[0m\u001b[1;33m\u001b[0m\u001b[0m\n\u001b[0;32m   1244\u001b[0m         \"\"\"\n\u001b[1;32m-> 1245\u001b[1;33m         result = value_counts(\n\u001b[0m\u001b[0;32m   1246\u001b[0m             \u001b[0mself\u001b[0m\u001b[1;33m,\u001b[0m\u001b[1;33m\u001b[0m\u001b[1;33m\u001b[0m\u001b[0m\n\u001b[0;32m   1247\u001b[0m             \u001b[0msort\u001b[0m\u001b[1;33m=\u001b[0m\u001b[0msort\u001b[0m\u001b[1;33m,\u001b[0m\u001b[1;33m\u001b[0m\u001b[1;33m\u001b[0m\u001b[0m\n",
      "\u001b[1;32m~\\anaconda3\\lib\\site-packages\\pandas\\core\\algorithms.py\u001b[0m in \u001b[0;36mvalue_counts\u001b[1;34m(values, sort, ascending, normalize, bins, dropna)\u001b[0m\n\u001b[0;32m    771\u001b[0m \u001b[1;33m\u001b[0m\u001b[0m\n\u001b[0;32m    772\u001b[0m         \u001b[1;32melse\u001b[0m\u001b[1;33m:\u001b[0m\u001b[1;33m\u001b[0m\u001b[1;33m\u001b[0m\u001b[0m\n\u001b[1;32m--> 773\u001b[1;33m             \u001b[0mkeys\u001b[0m\u001b[1;33m,\u001b[0m \u001b[0mcounts\u001b[0m \u001b[1;33m=\u001b[0m \u001b[0m_value_counts_arraylike\u001b[0m\u001b[1;33m(\u001b[0m\u001b[0mvalues\u001b[0m\u001b[1;33m,\u001b[0m \u001b[0mdropna\u001b[0m\u001b[1;33m)\u001b[0m\u001b[1;33m\u001b[0m\u001b[1;33m\u001b[0m\u001b[0m\n\u001b[0m\u001b[0;32m    774\u001b[0m \u001b[1;33m\u001b[0m\u001b[0m\n\u001b[0;32m    775\u001b[0m             \u001b[0mresult\u001b[0m \u001b[1;33m=\u001b[0m \u001b[0mSeries\u001b[0m\u001b[1;33m(\u001b[0m\u001b[0mcounts\u001b[0m\u001b[1;33m,\u001b[0m \u001b[0mindex\u001b[0m\u001b[1;33m=\u001b[0m\u001b[0mkeys\u001b[0m\u001b[1;33m,\u001b[0m \u001b[0mname\u001b[0m\u001b[1;33m=\u001b[0m\u001b[0mname\u001b[0m\u001b[1;33m)\u001b[0m\u001b[1;33m\u001b[0m\u001b[1;33m\u001b[0m\u001b[0m\n",
      "\u001b[1;32m~\\anaconda3\\lib\\site-packages\\pandas\\core\\algorithms.py\u001b[0m in \u001b[0;36m_value_counts_arraylike\u001b[1;34m(values, dropna)\u001b[0m\n\u001b[0;32m    816\u001b[0m         \u001b[1;31m# TODO: handle uint8\u001b[0m\u001b[1;33m\u001b[0m\u001b[1;33m\u001b[0m\u001b[1;33m\u001b[0m\u001b[0m\n\u001b[0;32m    817\u001b[0m         \u001b[0mf\u001b[0m \u001b[1;33m=\u001b[0m \u001b[0mgetattr\u001b[0m\u001b[1;33m(\u001b[0m\u001b[0mhtable\u001b[0m\u001b[1;33m,\u001b[0m \u001b[1;34mf\"value_count_{ndtype}\"\u001b[0m\u001b[1;33m)\u001b[0m\u001b[1;33m\u001b[0m\u001b[1;33m\u001b[0m\u001b[0m\n\u001b[1;32m--> 818\u001b[1;33m         \u001b[0mkeys\u001b[0m\u001b[1;33m,\u001b[0m \u001b[0mcounts\u001b[0m \u001b[1;33m=\u001b[0m \u001b[0mf\u001b[0m\u001b[1;33m(\u001b[0m\u001b[0mvalues\u001b[0m\u001b[1;33m,\u001b[0m \u001b[0mdropna\u001b[0m\u001b[1;33m)\u001b[0m\u001b[1;33m\u001b[0m\u001b[1;33m\u001b[0m\u001b[0m\n\u001b[0m\u001b[0;32m    819\u001b[0m \u001b[1;33m\u001b[0m\u001b[0m\n\u001b[0;32m    820\u001b[0m         \u001b[0mmask\u001b[0m \u001b[1;33m=\u001b[0m \u001b[0misna\u001b[0m\u001b[1;33m(\u001b[0m\u001b[0mvalues\u001b[0m\u001b[1;33m)\u001b[0m\u001b[1;33m\u001b[0m\u001b[1;33m\u001b[0m\u001b[0m\n",
      "\u001b[1;31mKeyboardInterrupt\u001b[0m: "
     ]
    }
   ],
   "source": [
    "# 2 вариант\n",
    "def permute (lst):\n",
    "    \"\"\"\n",
    "    Вычисляет комбинаторное число размещений A из N элементов по 2:\n",
    "    A = N! / (N - 2)! или A = N * (N - 1)\n",
    "    Вход: актёрский состав данного фильма, имена актёров разделены символом \"|\"\n",
    "    Выход: Список списков. Внутренние списки - имена пар актёров.\n",
    "    \"\"\"\n",
    "    lst = lst.split('|')\n",
    "    abc = []\n",
    "    for name1 in lst:\n",
    "        for name2 in lst:\n",
    "            if name1 == name2 : continue\n",
    "            abc += [[name1, name2]]\n",
    "    return abc\n",
    "\n",
    "cols = ['original_title', 'cast']\n",
    "df = data[cols].copy()\n",
    "# Используем пользовательскую функцию \"permute\", которая \"эмулирует\" работу\n",
    "# функции \"permutations\" модуля itertools:\n",
    "df.cast = df.cast.apply(permute)\n",
    "df = df.explode('cast')\n",
    "display(df.cast.value_counts().head(7))\n",
    "# Ответ на Вопрос 27:\n",
    "name1, name2 = df.cast.value_counts().index[0]\n",
    "name12, name22 = df.cast.value_counts().index[1]\n",
    "print(f'Чаще всего в одном фильме снимается пара {name1} & {name2},')\n",
    "print(f'а также - пара {name12} & {name22}.')"
   ]
  },
  {
   "cell_type": "markdown",
   "metadata": {},
   "source": [
    "# Submission"
   ]
  },
  {
   "cell_type": "code",
   "execution_count": 50,
   "metadata": {},
   "outputs": [
    {
     "data": {
      "text/plain": [
       "{1: 'Pirates of the Caribbean: On Stranger Tides (tt1298650)',\n",
       " 2: 'Gods and Generals (tt0279111)',\n",
       " 3: 'Winnie the Pooh (tt1449283)',\n",
       " 4: 110.0,\n",
       " 5: 107.0,\n",
       " 6: 'Avatar (tt0499549)',\n",
       " 7: 'The Lone Ranger (tt1210819)',\n",
       " 8: 1478,\n",
       " 9: 'The Dark Knight (tt0468569)',\n",
       " 10: 'The Lone Ranger (tt1210819)',\n",
       " 11: 'Drama',\n",
       " 12: 'Drama',\n",
       " 13: 'Peter Jackson',\n",
       " 14: 'Robert Rodriguez',\n",
       " 15: 'Chris Hemsworth',\n",
       " 16: 'Matt Damon',\n",
       " 17: 'Action',\n",
       " 18: 'K-19: The Widowmaker (tt0267626)',\n",
       " 19: 2015,\n",
       " 20: 2014,\n",
       " 21: 'September',\n",
       " 22: 450,\n",
       " 23: 'Peter Jackson',\n",
       " 24: 'Four By Two Productions',\n",
       " 25: 'Midnight Picture Show',\n",
       " 26: ['Inside Out',\n",
       "  'Room',\n",
       "  'Interstellar',\n",
       "  'Guardians of the Galaxy',\n",
       "  'The Imitation Game',\n",
       "  'Gone Girl',\n",
       "  'The Grand Budapest Hotel',\n",
       "  'Inception',\n",
       "  'The Dark Knight',\n",
       "  'The Pianist',\n",
       "  'The Lord of the Rings: The Return of the King',\n",
       "  'The Wolf of Wall Street',\n",
       "  '12 Years a Slave',\n",
       "  'Memento'],\n",
       " 27: [(('Daniel Radcliffe', 'Rupert Grint'), 8),\n",
       "  (('Daniel Radcliffe', 'Emma Watson'), 8),\n",
       "  (('Rupert Grint', 'Emma Watson'), 7),\n",
       "  (('Ben Stiller', 'Owen Wilson'), 6),\n",
       "  (('Johnny Depp', 'Helena Bonham Carter'), 6)]}"
      ]
     },
     "execution_count": 50,
     "metadata": {},
     "output_type": "execute_result"
    }
   ],
   "source": [
    "answers"
   ]
  },
  {
   "cell_type": "code",
   "execution_count": 51,
   "metadata": {},
   "outputs": [
    {
     "data": {
      "text/plain": [
       "27"
      ]
     },
     "execution_count": 51,
     "metadata": {},
     "output_type": "execute_result"
    }
   ],
   "source": [
    "len(answers)"
   ]
  },
  {
   "cell_type": "code",
   "execution_count": null,
   "metadata": {},
   "outputs": [],
   "source": []
  }
 ],
 "metadata": {
  "kernelspec": {
   "display_name": "Python 3",
   "language": "python",
   "name": "python3"
  },
  "language_info": {
   "codemirror_mode": {
    "name": "ipython",
    "version": 3
   },
   "file_extension": ".py",
   "mimetype": "text/x-python",
   "name": "python",
   "nbconvert_exporter": "python",
   "pygments_lexer": "ipython3",
   "version": "3.8.5"
  }
 },
 "nbformat": 4,
 "nbformat_minor": 4
}
