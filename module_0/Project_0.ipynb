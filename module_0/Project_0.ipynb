{
 "cells": [
  {
   "cell_type": "code",
   "execution_count": 40,
   "metadata": {},
   "outputs": [
    {
     "name": "stdout",
     "output_type": "stream",
     "text": [
      "Загадано число от 1 до 100\n",
      "Вы угадали число 35 за 6 попыток.\n",
      "Ваш алгоритм угадывает число в среднем за 5 попыток\n"
     ]
    }
   ],
   "source": [
    "# Проект 0\n",
    "import numpy\n",
    "hidden_number = numpy.random.randint(1, 101)  # загадали число\n",
    "print (\"Загадано число от 1 до 100\")\n",
    "\n",
    "\n",
    "def guess_number(hidden_number):           # функция угадать загаданное компьютером число\n",
    "    count = 0                              # счетчик попыток\n",
    "    start = 1                              # нижняя граница поиска\n",
    "    finish = 100                           # верхняя граница поиска\n",
    "    number = 0                             # предполагаемое число\n",
    "    \n",
    "    while number != hidden_number:         # цикл попыток\n",
    "        number = (start + finish) // 2     # предполагаемое число\n",
    "        count += 1                         # увеличиваем счетчик\n",
    "        if number == hidden_number:        # если угадали...\n",
    "            break                          # ...завершаем цикл\n",
    "        elif number < hidden_number:       # если предполагаемое число меньше загаданного числа...\n",
    "            start = number + 1             # ...увеличиваем нижнюю границу поиска\n",
    "        elif number > hidden_number:       # если предполагаемое число больше загаданного числа...\n",
    "            finish = number - 1            # ...уменьшаем нижнюю границу поиска\n",
    "\n",
    "    return count                           # возвращаем счетчик попыток\n",
    "print (f\"Вы угадали число {hidden_number} за {guess_number(hidden_number)} попыток.\")\n",
    "\n",
    "\n",
    "def iteration_count(guess_number):                          # функция повтора угадать загаданное число\n",
    "    iteration_count = []                                    # создаем пустой список(в этот список будем добавлять счетчики попыток)\n",
    "    random_array = numpy.random.randint(1, 101, size=1000)  # загаданное число(повтор 1000 раз)\n",
    "\n",
    "    for number in random_array:                             # итерация по каждому загаданному числу\n",
    "        iteration_count.append(guess_number(number))        # функция guess_number возвращает нам счетчик и мы помещаем его в наш список\n",
    "    score = int(numpy.mean(iteration_count))                # среднее значение из списка с счетчиками\n",
    "    \n",
    "    return (score)                                          # возвращаем среднее\n",
    "\n",
    "\n",
    "ans = iteration_count(guess_number)\n",
    "print(f\"Ваш алгоритм угадывает число в среднем за {ans} попыток\")"
   ]
  },
  {
   "cell_type": "code",
   "execution_count": null,
   "metadata": {},
   "outputs": [],
   "source": []
  }
 ],
 "metadata": {
  "kernelspec": {
   "display_name": "Python 3",
   "language": "python",
   "name": "python3"
  },
  "language_info": {
   "codemirror_mode": {
    "name": "ipython",
    "version": 3
   },
   "file_extension": ".py",
   "mimetype": "text/x-python",
   "name": "python",
   "nbconvert_exporter": "python",
   "pygments_lexer": "ipython3",
   "version": "3.8.5"
  }
 },
 "nbformat": 4,
 "nbformat_minor": 4
}
